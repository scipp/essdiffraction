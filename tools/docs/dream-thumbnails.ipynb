{
 "cells": [
  {
   "cell_type": "markdown",
   "id": "0",
   "metadata": {},
   "source": [
    "# DREAM thumbnails\n",
    "\n",
    "This notebook generates the thumbnails used in the DREAM user guide."
   ]
  },
  {
   "cell_type": "code",
   "execution_count": null,
   "id": "1",
   "metadata": {},
   "outputs": [],
   "source": [
    "import scipp as sc\n",
    "from ess import dream, powder\n",
    "import ess.dream.data  # noqa: F401\n",
    "from ess.powder.types import *\n",
    "import matplotlib.pyplot as plt"
   ]
  },
  {
   "cell_type": "code",
   "execution_count": null,
   "id": "2",
   "metadata": {},
   "outputs": [],
   "source": [
    "workflow = dream.DreamGeant4Workflow(run_norm=powder.RunNormalization.proton_charge)"
   ]
  },
  {
   "cell_type": "code",
   "execution_count": null,
   "id": "3",
   "metadata": {},
   "outputs": [],
   "source": [
    "workflow[Filename[SampleRun]] = dream.data.simulated_diamond_sample()\n",
    "workflow[Filename[VanadiumRun]] = dream.data.simulated_vanadium_sample()\n",
    "workflow[Filename[BackgroundRun]] = dream.data.simulated_empty_can()\n",
    "workflow[CalibrationFilename] = None\n",
    "\n",
    "workflow[MonitorFilename[SampleRun]] = dream.data.simulated_monitor_diamond_sample()\n",
    "workflow[MonitorFilename[VanadiumRun]] = dream.data.simulated_monitor_vanadium_sample()\n",
    "workflow[MonitorFilename[BackgroundRun]] = dream.data.simulated_monitor_empty_can()\n",
    "workflow[CaveMonitorPosition] = sc.vector([0.0, 0.0, -4220.0], unit=\"mm\")\n",
    "\n",
    "workflow[dream.InstrumentConfiguration] = dream.InstrumentConfiguration.high_flux\n",
    "# Select a detector bank:\n",
    "workflow[NeXusDetectorName] = \"mantle\"\n",
    "# We drop uncertainties where they would otherwise lead to correlations:\n",
    "workflow[UncertaintyBroadcastMode] = UncertaintyBroadcastMode.drop\n",
    "# Edges for binning in d-spacing:\n",
    "workflow[DspacingBins] = sc.linspace(\"dspacing\", 0.0, 2.3434, 201, unit=\"angstrom\")\n",
    "\n",
    "# Do not mask any pixels / voxels:\n",
    "workflow = powder.with_pixel_mask_filenames(workflow, [])"
   ]
  },
  {
   "cell_type": "markdown",
   "id": "4",
   "metadata": {},
   "source": [
    "## Basic powder workflow"
   ]
  },
  {
   "cell_type": "code",
   "execution_count": null,
   "id": "5",
   "metadata": {},
   "outputs": [],
   "source": [
    "results = workflow.compute([IofTof, ReducedTofCIF])\n",
    "result = results[IofTof]\n",
    "cif_data = results[ReducedTofCIF]"
   ]
  },
  {
   "cell_type": "code",
   "execution_count": null,
   "id": "6",
   "metadata": {},
   "outputs": [],
   "source": [
    "histogram = result.hist()"
   ]
  },
  {
   "cell_type": "code",
   "execution_count": null,
   "id": "7",
   "metadata": {},
   "outputs": [],
   "source": [
    "def basic_powder_plot(style: str):\n",
    "    with plt.style.context(style):\n",
    "        fig, ax = plt.subplots(layout='constrained', figsize=(3, 2.5))\n",
    "        _ = histogram.plot(ax=ax)\n",
    "        ax.set_xlim((10000, 65000))\n",
    "        ax.set_xlabel(r'$t$ [µs]')\n",
    "        ax.set_ylabel(r'$I(t)$')\n",
    "    return fig"
   ]
  },
  {
   "cell_type": "code",
   "execution_count": null,
   "id": "8",
   "metadata": {},
   "outputs": [],
   "source": [
    "fig = basic_powder_plot('default')\n",
    "fig.savefig(\n",
    "    \"../../docs/_static/thumbnails/dream_basic_powder_reduction_light.svg\",\n",
    "    transparent=True,\n",
    ")\n",
    "fig"
   ]
  },
  {
   "cell_type": "code",
   "execution_count": null,
   "id": "9",
   "metadata": {},
   "outputs": [],
   "source": [
    "fig = basic_powder_plot('dark_background')\n",
    "fig.savefig(\n",
    "    \"../../docs/_static/thumbnails/dream_basic_powder_reduction_dark.svg\",\n",
    "    transparent=True,\n",
    ")\n",
    "fig"
   ]
  },
  {
   "cell_type": "markdown",
   "id": "10",
   "metadata": {},
   "source": [
    "## Advanced powder workflow"
   ]
  },
  {
   "cell_type": "code",
   "execution_count": null,
   "id": "11",
   "metadata": {},
   "outputs": [],
   "source": [
    "workflow[TwoThetaBins] = sc.linspace(\n",
    "    dim=\"two_theta\", unit=\"rad\", start=0.8, stop=2.3, num=201\n",
    ")\n",
    "result = workflow.compute(IofDspacingTwoTheta)"
   ]
  },
  {
   "cell_type": "code",
   "execution_count": null,
   "id": "12",
   "metadata": {},
   "outputs": [],
   "source": [
    "result.bins.coords['two_theta'] = sc.bins_like(result, sc.midpoints(result.coords['two_theta']))\n",
    "histogram = result.bins.concat().hist(two_theta=80, dspacing=80)"
   ]
  },
  {
   "cell_type": "code",
   "execution_count": null,
   "id": "13",
   "metadata": {},
   "outputs": [],
   "source": [
    "def advanced_powder_plot(style: str):\n",
    "    with plt.style.context(style):\n",
    "        fig, ax = plt.subplots(layout='constrained', figsize=(3, 2.5))\n",
    "        pf = histogram.plot(ax=ax, norm='log')\n",
    "        pf.view.colormapper.ylabel = None\n",
    "        ax.set_xlabel(r'$d$ [Å]')\n",
    "        ax.set_ylabel(r'$2\\theta$ [rad]')\n",
    "    return fig"
   ]
  },
  {
   "cell_type": "code",
   "execution_count": null,
   "id": "14",
   "metadata": {},
   "outputs": [],
   "source": [
    "fig = advanced_powder_plot('default')\n",
    "fig.savefig(\n",
    "    \"../../docs/_static/thumbnails/dream_advanced_powder_reduction_light.svg\",\n",
    "    transparent=True,\n",
    ")\n",
    "fig"
   ]
  },
  {
   "cell_type": "code",
   "execution_count": null,
   "id": "15",
   "metadata": {},
   "outputs": [],
   "source": [
    "fig = advanced_powder_plot('dark_background')\n",
    "fig.savefig(\n",
    "    \"../../docs/_static/thumbnails/dream_advanced_powder_reduction_dark.svg\",\n",
    "    transparent=True,\n",
    ")\n",
    "fig"
   ]
  }
 ],
 "metadata": {
  "kernelspec": {
   "display_name": "Python 3 (ipykernel)",
   "language": "python",
   "name": "python3"
  },
  "language_info": {
   "codemirror_mode": {
    "name": "ipython",
    "version": 3
   },
   "file_extension": ".py",
   "mimetype": "text/x-python",
   "name": "python",
   "nbconvert_exporter": "python",
   "pygments_lexer": "ipython3"
  }
 },
 "nbformat": 4,
 "nbformat_minor": 5
}
