{
 "cells": [
  {
   "cell_type": "markdown",
   "id": "0",
   "metadata": {},
   "source": [
    "# Create a time-of-flight lookup table for DREAM"
   ]
  },
  {
   "cell_type": "code",
   "execution_count": null,
   "id": "1",
   "metadata": {},
   "outputs": [],
   "source": [
    "import scipp as sc\n",
    "import sciline as sl\n",
    "from ess.reduce import time_of_flight\n",
    "from ess.dream.beamline import InstrumentConfiguration, choppers"
   ]
  },
  {
   "cell_type": "markdown",
   "id": "2",
   "metadata": {},
   "source": [
    "## Select the choppers"
   ]
  },
  {
   "cell_type": "code",
   "execution_count": null,
   "id": "3",
   "metadata": {},
   "outputs": [],
   "source": [
    "disk_choppers = choppers(InstrumentConfiguration.high_flux)"
   ]
  },
  {
   "cell_type": "markdown",
   "id": "4",
   "metadata": {},
   "source": [
    "## Setting up the workflow"
   ]
  },
  {
   "cell_type": "code",
   "execution_count": null,
   "id": "5",
   "metadata": {},
   "outputs": [],
   "source": [
    "wf = sl.Pipeline(\n",
    "    time_of_flight.providers(), params=time_of_flight.default_parameters()\n",
    ")\n",
    "\n",
    "wf[time_of_flight.LtotalRange] = sc.scalar(60.0, unit=\"m\"), sc.scalar(80.0, unit=\"m\")\n",
    "wf[time_of_flight.SimulationResults] = time_of_flight.simulate_beamline(\n",
    "    choppers=disk_choppers, neutrons=5_000_000\n",
    ")\n",
    "\n",
    "wf[time_of_flight.DistanceResolution] = sc.scalar(0.1, unit=\"m\")\n",
    "wf[time_of_flight.TimeResolution] = sc.scalar(250.0, unit='us')\n",
    "wf[time_of_flight.LookupTableRelativeErrorThreshold] = 0.02\n",
    "wf[time_of_flight.PulsePeriod] = 1.0 / sc.scalar(14.0, unit=\"Hz\")\n",
    "wf[time_of_flight.PulseStride] = 1\n",
    "wf[time_of_flight.PulseStrideOffset] = None"
   ]
  },
  {
   "cell_type": "markdown",
   "id": "6",
   "metadata": {},
   "source": [
    "## Compute the table"
   ]
  },
  {
   "cell_type": "code",
   "execution_count": null,
   "id": "7",
   "metadata": {},
   "outputs": [],
   "source": [
    "table = wf.compute(time_of_flight.TimeOfFlightLookupTable)\n",
    "table"
   ]
  },
  {
   "cell_type": "code",
   "execution_count": null,
   "id": "8",
   "metadata": {},
   "outputs": [],
   "source": [
    "table.squeeze().plot()"
   ]
  },
  {
   "cell_type": "markdown",
   "id": "9",
   "metadata": {},
   "source": [
    "## Save to file"
   ]
  },
  {
   "cell_type": "code",
   "execution_count": null,
   "id": "10",
   "metadata": {},
   "outputs": [],
   "source": [
    "# Save chopper metadata\n",
    "# TODO: storing the choppers as a PyObject is skipped when saving to disk\n",
    "table.coords['choppers'] = sc.scalar(disk_choppers)\n",
    "# Write to file\n",
    "table.save_hdf5('DREAM-high-flux-tof-lookup-table.h5')"
   ]
  }
 ],
 "metadata": {
  "kernelspec": {
   "display_name": "Python 3 (ipykernel)",
   "language": "python",
   "name": "python3"
  },
  "language_info": {
   "codemirror_mode": {
    "name": "ipython",
    "version": 3
   },
   "file_extension": ".py",
   "mimetype": "text/x-python",
   "name": "python",
   "nbconvert_exporter": "python",
   "pygments_lexer": "ipython3",
   "version": "3.12.7"
  }
 },
 "nbformat": 4,
 "nbformat_minor": 5
}
