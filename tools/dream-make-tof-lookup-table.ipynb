{
 "cells": [
  {
   "cell_type": "markdown",
   "id": "0",
   "metadata": {},
   "source": [
    "# Create a time-of-flight lookup table for DREAM"
   ]
  },
  {
   "cell_type": "code",
   "execution_count": null,
   "id": "1",
   "metadata": {},
   "outputs": [],
   "source": [
    "import scipp as sc\n",
    "from ess.reduce import time_of_flight\n",
    "from ess.reduce.nexus.types import SampleRun, Position\n",
    "from ess.reduce.time_of_flight.simulation import DiskChoppers, NumberOfSimulatedNeutrons\n",
    "import scippnexus as snx\n",
    "\n",
    "\n",
    "from ess.dream.beamline import InstrumentConfiguration, choppers\n",
    "\n",
    "DISPLAY_INTERMEDIATE_STEPS = False"
   ]
  },
  {
   "cell_type": "markdown",
   "id": "2",
   "metadata": {},
   "source": [
    "## Select the choppers"
   ]
  },
  {
   "cell_type": "code",
   "execution_count": null,
   "id": "3",
   "metadata": {},
   "outputs": [],
   "source": [
    "disk_choppers = choppers(InstrumentConfiguration.high_flux)\n",
    "for chopper_name, chopper in disk_choppers.items():\n",
    "    if DISPLAY_INTERMEDIATE_STEPS:\n",
    "        display(chopper_name)\n",
    "        display(chopper)"
   ]
  },
  {
   "cell_type": "markdown",
   "id": "4",
   "metadata": {},
   "source": [
    "## Setting up the workflow"
   ]
  },
  {
   "cell_type": "code",
   "execution_count": null,
   "id": "5",
   "metadata": {},
   "outputs": [],
   "source": [
    "# Initialize the workflow\n",
    "wf = time_of_flight.GenericTofWorkflow(\n",
    "    tof_lut_provider=time_of_flight.TofLutProvider.TOF,  # This argument decides if the workflow uses `tof` to generate the lookup table\n",
    "    # RunType and MonitorType does not matter for lookup table generation.\n",
    "    run_types=[],\n",
    "    monitor_types=[],\n",
    ")\n",
    "\n",
    "# Set tof simulation parameters\n",
    "wf[DiskChoppers[SampleRun]] = sc.DataGroup(disk_choppers)  # Mapping of chopper names to `DisckChopper` objects\n",
    "wf[Position[snx.NXsource, SampleRun]] = sc.vector([0, 0, 0], unit='m')  # Position of the source, which is usually at the origin\n",
    "wf[NumberOfSimulatedNeutrons] = 5_000_000  # Number of neutrons to simulate. More neutrons means better resolution of the lookup table. Feel free to increase as much as you want.\n",
    "\n",
    "# Set lookup table parameters\n",
    "wf[time_of_flight.LtotalRange] = sc.scalar(60.0, unit=\"m\"), sc.scalar(80.0, unit=\"m\")\n",
    "wf[time_of_flight.DistanceResolution] = sc.scalar(0.1, unit=\"m\")\n",
    "wf[time_of_flight.TimeResolution] = sc.scalar(250.0, unit='us')\n",
    "wf[time_of_flight.LookupTableRelativeErrorThreshold] = 0.02\n",
    "wf[time_of_flight.PulsePeriod] = 1.0 / sc.scalar(14.0, unit=\"Hz\")\n",
    "wf[time_of_flight.PulseStride] = 1\n",
    "wf[time_of_flight.PulseStrideOffset] = None"
   ]
  },
  {
   "cell_type": "code",
   "execution_count": null,
   "id": "6",
   "metadata": {},
   "outputs": [],
   "source": [
    "wf.visualize(time_of_flight.TimeOfFlightLookupTable)"
   ]
  },
  {
   "cell_type": "markdown",
   "id": "7",
   "metadata": {},
   "source": [
    "## Compute the table"
   ]
  },
  {
   "cell_type": "code",
   "execution_count": null,
   "id": "8",
   "metadata": {},
   "outputs": [],
   "source": [
    "table = wf.compute(time_of_flight.TimeOfFlightLookupTable)\n",
    "table"
   ]
  },
  {
   "cell_type": "code",
   "execution_count": null,
   "id": "9",
   "metadata": {},
   "outputs": [],
   "source": [
    "table.plot()"
   ]
  },
  {
   "cell_type": "markdown",
   "id": "10",
   "metadata": {},
   "source": [
    "## Save to file"
   ]
  },
  {
   "cell_type": "code",
   "execution_count": null,
   "id": "11",
   "metadata": {},
   "outputs": [],
   "source": [
    "# Save chopper metadata\n",
    "# TODO: storing the choppers as a PyObject is skipped when saving to disk\n",
    "table.coords['choppers'] = sc.scalar(disk_choppers)\n",
    "# Write to file\n",
    "table.save_hdf5('DREAM-high-flux-tof-lookup-table.h5')"
   ]
  },
  {
   "cell_type": "markdown",
   "id": "12",
   "metadata": {},
   "source": [
    "## Load the file"
   ]
  },
  {
   "cell_type": "code",
   "execution_count": null,
   "id": "13",
   "metadata": {},
   "outputs": [],
   "source": [
    "# Initialize the workflow\n",
    "wf = time_of_flight.GenericTofWorkflow(\n",
    "    tof_lut_provider=time_of_flight.TofLutProvider.FILE,  # This argument decides if the workflow uses a file to load the lookup table\n",
    "    run_types=[],\n",
    "    monitor_types=[],\n",
    ")\n",
    "# Set lookup table parameters\n",
    "wf[time_of_flight.TimeOfFlightLookupTableFilename] = 'DREAM-high-flux-tof-lookup-table.h5'\n",
    "loaded_table = wf.compute(time_of_flight.TimeOfFlightLookupTable)\n",
    "if DISPLAY_INTERMEDIATE_STEPS:\n",
    "    display(wf.visualize(time_of_flight.TimeOfFlightLookupTable))\n",
    "    display(loaded_table)\n",
    "table.plot()\n"
   ]
  }
 ],
 "metadata": {
  "kernelspec": {
   "display_name": "diff-dev-310",
   "language": "python",
   "name": "python3"
  },
  "language_info": {
   "codemirror_mode": {
    "name": "ipython",
    "version": 3
   },
   "file_extension": ".py",
   "mimetype": "text/x-python",
   "name": "python",
   "nbconvert_exporter": "python",
   "pygments_lexer": "ipython3",
   "version": "3.10.17"
  }
 },
 "nbformat": 4,
 "nbformat_minor": 5
}
