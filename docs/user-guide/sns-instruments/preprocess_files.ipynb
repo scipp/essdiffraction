{
 "cells": [
  {
   "cell_type": "markdown",
   "id": "0",
   "metadata": {},
   "source": [
    "# Preprocess POWGEN files\n",
    "\n",
    "Loads test data files with Mantid and stores them as Scipp HDF5 files to be used in the example workflow."
   ]
  },
  {
   "cell_type": "code",
   "execution_count": null,
   "id": "1",
   "metadata": {
    "tags": []
   },
   "outputs": [],
   "source": [
    "import scipp as sc\n",
    "import scippneutron as scn\n",
    "\n",
    "from ess.diffraction.external import load_calibration, powgen"
   ]
  },
  {
   "cell_type": "markdown",
   "id": "2",
   "metadata": {},
   "source": [
    "## Sample"
   ]
  },
  {
   "cell_type": "code",
   "execution_count": null,
   "id": "3",
   "metadata": {},
   "outputs": [],
   "source": [
    "sample = scn.load_with_mantid(\n",
    "    powgen.data.mantid_sample_file(),\n",
    "    advanced_geometry=True,\n",
    "    load_pulse_times=False,\n",
    "    mantid_args={\"LoadMonitors\": False},\n",
    ")"
   ]
  },
  {
   "cell_type": "code",
   "execution_count": null,
   "id": "4",
   "metadata": {},
   "outputs": [],
   "source": [
    "sample"
   ]
  },
  {
   "cell_type": "code",
   "execution_count": null,
   "id": "5",
   "metadata": {},
   "outputs": [],
   "source": [
    "sample_data = sample[\"data\"]\n",
    "sample_data.coords[\"gd_prtn_chrg\"] = sample[\"gd_prtn_chrg\"]\n",
    "sample_data.coords.set_aligned(\"gd_prtn_chrg\", False)\n",
    "sample_dg = sc.DataGroup(\n",
    "    {\n",
    "        \"data\": sample_data,\n",
    "        \"detector_info\": sample_data.coords.pop(\"detector_info\").value,\n",
    "    }\n",
    ")"
   ]
  },
  {
   "cell_type": "code",
   "execution_count": null,
   "id": "6",
   "metadata": {},
   "outputs": [],
   "source": [
    "sample_dg"
   ]
  },
  {
   "cell_type": "code",
   "execution_count": null,
   "id": "7",
   "metadata": {},
   "outputs": [],
   "source": [
    "sample_dg.save_hdf5(\"PG3_4844_event.h5\")"
   ]
  },
  {
   "cell_type": "code",
   "execution_count": null,
   "id": "8",
   "metadata": {},
   "outputs": [],
   "source": [
    "sc.io.load_hdf5(\"PG3_4844_event.h5\")"
   ]
  },
  {
   "cell_type": "markdown",
   "id": "9",
   "metadata": {},
   "source": [
    "## Vana"
   ]
  },
  {
   "cell_type": "code",
   "execution_count": null,
   "id": "10",
   "metadata": {},
   "outputs": [],
   "source": [
    "vana = scn.load_with_mantid(\n",
    "    powgen.data.mantid_vanadium_file(),\n",
    "    advanced_geometry=False,\n",
    "    load_pulse_times=True,\n",
    "    mantid_args={\"LoadMonitors\": False},\n",
    ")"
   ]
  },
  {
   "cell_type": "code",
   "execution_count": null,
   "id": "11",
   "metadata": {},
   "outputs": [],
   "source": [
    "vana_data = vana[\"data\"]\n",
    "vana_data.coords[\"gd_prtn_chrg\"] = vana[\"gd_prtn_chrg\"]\n",
    "vana_data.coords.set_aligned(\"gd_prtn_chrg\", False)\n",
    "vana_dg = sc.DataGroup(\n",
    "    {\n",
    "        \"data\": vana_data,\n",
    "        \"proton_charge\": vana[\"proton_charge\"].rename(time=\"pulse_time\"),\n",
    "    }\n",
    ")"
   ]
  },
  {
   "cell_type": "code",
   "execution_count": null,
   "id": "12",
   "metadata": {},
   "outputs": [],
   "source": [
    "vana_dg"
   ]
  },
  {
   "cell_type": "code",
   "execution_count": null,
   "id": "13",
   "metadata": {},
   "outputs": [],
   "source": [
    "vana_dg[\"data\"].bins.constituents[\"data\"]"
   ]
  },
  {
   "cell_type": "code",
   "execution_count": null,
   "id": "14",
   "metadata": {},
   "outputs": [],
   "source": [
    "vana_dg.save_hdf5(\"PG3_4866_event.h5\")"
   ]
  },
  {
   "cell_type": "code",
   "execution_count": null,
   "id": "15",
   "metadata": {},
   "outputs": [],
   "source": [
    "sc.io.load_hdf5(\"PG3_4866_event.h5\")"
   ]
  },
  {
   "cell_type": "markdown",
   "id": "16",
   "metadata": {},
   "source": [
    "## Calibration"
   ]
  },
  {
   "cell_type": "code",
   "execution_count": null,
   "id": "17",
   "metadata": {},
   "outputs": [],
   "source": [
    "cal = load_calibration(\n",
    "    powgen.data.mantid_calibration_file(),\n",
    "    instrument_filename=\"POWGEN_Definition_2011-02-25.xml\",\n",
    ")"
   ]
  },
  {
   "cell_type": "code",
   "execution_count": null,
   "id": "18",
   "metadata": {},
   "outputs": [],
   "source": [
    "cal"
   ]
  },
  {
   "cell_type": "code",
   "execution_count": null,
   "id": "19",
   "metadata": {},
   "outputs": [],
   "source": [
    "cal.save_hdf5(\"PG3_FERNS_d4832_2011_08_24.h5\")"
   ]
  },
  {
   "cell_type": "code",
   "execution_count": null,
   "id": "20",
   "metadata": {},
   "outputs": [],
   "source": [
    "sc.io.load_hdf5(\"PG3_FERNS_d4832_2011_08_24.h5\")"
   ]
  }
 ],
 "metadata": {
  "kernelspec": {
   "display_name": "Python 3 (ipykernel)",
   "language": "python",
   "name": "python3"
  },
  "language_info": {
   "codemirror_mode": {
    "name": "ipython",
    "version": 3
   },
   "file_extension": ".py",
   "mimetype": "text/x-python",
   "name": "python",
   "nbconvert_exporter": "python",
   "pygments_lexer": "ipython3",
   "version": "3.10.13"
  }
 },
 "nbformat": 4,
 "nbformat_minor": 5
}
