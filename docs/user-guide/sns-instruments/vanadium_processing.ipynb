{
 "cells": [
  {
   "cell_type": "markdown",
   "id": "fb973780-910e-48c0-9055-672182f300f9",
   "metadata": {},
   "source": [
    "# Vanadium processing\n",
    "\n",
    "The main workflow in [POWGEN_data_reduction](./POWGEN_data_reduction.rst) misses some reduction steps for vanadium.\n",
    "In particular, we need to remove coherent scattering peaks from vanadium data.\n",
    "This is not part of the regular workflow as it relies on fitting.\n",
    "And since fitting can easily break in a way that is hard to detect automatically, a human should inspect the results.\n",
    "Additionally, vanadium measurements can be processed separately from sample measurements and saved to files.\n",
    "The processed vanadium data can then be used in the main workflow directly.\n",
    "\n",
    "This notebook outlines how to process a vanadium run.\n",
    "First, we convert the data to d-spacing using the same workflow as in [POWGEN_data_reduction](./POWGEN_data_reduction.rst)."
   ]
  },
  {
   "cell_type": "code",
   "execution_count": null,
   "id": "b38ce909-c9ec-4d75-8060-3b9e3094ef78",
   "metadata": {},
   "outputs": [],
   "source": [
    "import scipp as sc\n",
    "import scippneutron as scn\n",
    "import scippneutron.peaks\n",
    "import sciline\n",
    "\n",
    "from ess import powder\n",
    "from ess.powder.external import powgen\n",
    "from ess.powder.types import *"
   ]
  },
  {
   "cell_type": "markdown",
   "id": "bf03dd14-a096-4cf0-8f0b-c318eb507391",
   "metadata": {},
   "source": [
    "Use the same parameters as in the main workflow except with more d-spacing bins.\n",
    "We need the high d-spacing resolution later when removing coherent scattering peaks."
   ]
  },
  {
   "cell_type": "code",
   "execution_count": null,
   "id": "6f3380c9-bd57-4995-893c-42ef129c3e63",
   "metadata": {},
   "outputs": [],
   "source": [
    "params = {\n",
    "    NeXusDetectorName: \"powgen_detector\",\n",
    "    # Input data\n",
    "    Filename[VanadiumRun]: powgen.data.powgen_tutorial_vanadium_file(),\n",
    "    # Edges for binning in d-spacing\n",
    "    DspacingBins: sc.linspace(\"dspacing\", 0.0, 2.3434, 5001, unit=\"angstrom\"),\n",
    "    # Mask in time-of-flight to crop to valid range\n",
    "    TofMask: lambda x: (x < sc.scalar(0.0, unit=\"us\"))\n",
    "    | (x > sc.scalar(16666.67, unit=\"us\")),\n",
    "    TwoThetaMask: None,\n",
    "    WavelengthMask: None,\n",
    "}"
   ]
  },
  {
   "cell_type": "code",
   "execution_count": null,
   "id": "f59bf8e0-72a4-4ee5-8217-4b1fa589cca4",
   "metadata": {},
   "outputs": [],
   "source": [
    "providers = [*powder.providers, *powgen.providers]\n",
    "pipeline = sciline.Pipeline(providers, params=params)\n",
    "pipeline = powder.with_pixel_mask_filenames(pipeline, [])"
   ]
  },
  {
   "cell_type": "code",
   "execution_count": null,
   "id": "aa3cfbe6-7a7f-485b-9ea5-f3aad793f713",
   "metadata": {},
   "outputs": [],
   "source": [
    "pipeline.visualize(FocussedDataDspacing[VanadiumRun], graph_attr={\"rankdir\": \"LR\"})"
   ]
  },
  {
   "cell_type": "markdown",
   "id": "12ac6517-a73c-493b-b2ce-f7ffe13a2060",
   "metadata": {},
   "source": [
    "Compute a single vanadium spectrum in d-spacing:"
   ]
  },
  {
   "cell_type": "code",
   "execution_count": null,
   "id": "646a1117-3a71-4893-b2a2-13675cf749c7",
   "metadata": {},
   "outputs": [],
   "source": [
    "peaked_data = pipeline.compute(FocussedDataDspacing[VanadiumRun])"
   ]
  },
  {
   "cell_type": "code",
   "execution_count": null,
   "id": "8de3d6e0-b8ec-4a25-bcb0-b0d2b19b8a61",
   "metadata": {},
   "outputs": [],
   "source": [
    "peaked_data"
   ]
  },
  {
   "cell_type": "code",
   "execution_count": null,
   "id": "04f7f83c-8608-458d-b4a9-2f9853c09cd7",
   "metadata": {},
   "outputs": [],
   "source": [
    "peaked_data.hist().plot()"
   ]
  },
  {
   "cell_type": "markdown",
   "id": "84f8b41c-e3f3-4282-83c6-e0e424bc5632",
   "metadata": {},
   "source": [
    "## Removing coherent scattering peaks\n",
    "\n",
    "As the variable name `peaked_data` implies, the produced spectrum contains peaks from coherent scattering.\n",
    "Even though the peaks are small for vanadium, we need to remove them to extract pure incoherent scattering.\n",
    "We can approximate the coherent scattering contribution by fitting functions to the peaks and subtracting those fitted functions.\n",
    "[scippneutron.peaks](https://scipp.github.io/scippneutron/generated/modules/scippneutron.peaks.html) contains general functionality for fitting and removing peaks.\n",
    "Here, we use it through [ess.powder.external.powgen.peaks](../../generated/modules/ess.powder.external.powgen.peaks.rst) which provides useful defaults for vanadium peaks at POWGEN.\n",
    "For example, it selects appropriate models for peaks (gaussian) and backgrounds (linear and quadratic).\n",
    "\n",
    "First, define estimates for the peaks based on the known crystal structure of vanadium:"
   ]
  },
  {
   "cell_type": "code",
   "execution_count": null,
   "id": "7140935e-8b32-403f-a0d8-e66293819b40",
   "metadata": {},
   "outputs": [],
   "source": [
    "peak_estimates = powgen.peaks.theoretical_vanadium_dspacing(\n",
    "    hkl_range=7, min_d=sc.scalar(0.41, unit='angstrom')\n",
    ")"
   ]
  },
  {
   "cell_type": "markdown",
   "id": "6e530963-258e-475f-9128-2417bc8d7e24",
   "metadata": {},
   "source": [
    "We need to histogram the data to perform fits:"
   ]
  },
  {
   "cell_type": "code",
   "execution_count": null,
   "id": "d6bcd10f-130e-43e0-8231-1f0b70e8bc53",
   "metadata": {},
   "outputs": [],
   "source": [
    "peak_histogram = peaked_data.hist()"
   ]
  },
  {
   "cell_type": "markdown",
   "id": "1c4ff398-80d4-4452-92d7-3d3c8d1359dc",
   "metadata": {},
   "source": [
    "The fits require a bin-center coordinate, so convert from bin-edges:"
   ]
  },
  {
   "cell_type": "code",
   "execution_count": null,
   "id": "e661fda9-1de4-4d26-a8d7-c84cec10decd",
   "metadata": {},
   "outputs": [],
   "source": [
    "to_fit = peak_histogram.copy(deep=False)\n",
    "to_fit.coords['dspacing'] = sc.midpoints(to_fit.coords['dspacing'])"
   ]
  },
  {
   "cell_type": "markdown",
   "id": "b0bbf51f-307f-43c5-8093-ff6606049a1f",
   "metadata": {},
   "source": [
    "Perform the fits:"
   ]
  },
  {
   "cell_type": "code",
   "execution_count": null,
   "id": "49f574d8-de6f-4c69-9704-6ce4acb9bdb3",
   "metadata": {},
   "outputs": [],
   "source": [
    "fit_results = powgen.peaks.fit_vanadium_peaks(to_fit, peak_estimates=peak_estimates)"
   ]
  },
  {
   "cell_type": "markdown",
   "id": "19251c69-75eb-4dd0-be97-d2272946bacd",
   "metadata": {},
   "source": [
    "Remove the fitted peaks to obtain the incoherent scattering.\n",
    "Also restore the bin-edge coordinate that we had to replace temporarily for the fits.\n",
    "\n",
    "Importantly, we remove variances from the data.\n",
    "If we kept the variances, subtracting the fitted models would introduce correlations between the data points.\n",
    "This corresponds to [UncertaintyBroadcastMode.drop](../../generated/modules/ess.powder.types.UncertaintyBroadcastMode.rst) in the main workflow.\n",
    "See also the [guide in ESSreduce](https://scipp.github.io/essreduce/user-guide/reduction-workflow-guidelines.html#s-8-propagation-of-uncertainties-in-broadcast-operations-should-support-drop-and-upper-bound-strategies-upper-bound-shall-be-the-default)"
   ]
  },
  {
   "cell_type": "code",
   "execution_count": null,
   "id": "fbcde35f-8608-4ecb-9b6d-67f686d7839a",
   "metadata": {},
   "outputs": [],
   "source": [
    "incoherent = scn.peaks.remove_peaks(sc.values(to_fit), fit_results)\n",
    "incoherent.coords['dspacing'] = peak_histogram.coords['dspacing']\n",
    "incoherent.plot()"
   ]
  },
  {
   "cell_type": "markdown",
   "id": "6f19a754-c41a-4507-9ac5-a9f68dbab60f",
   "metadata": {},
   "source": [
    "We can further inspect the results.\n",
    "Below, there is a function that plots\n",
    "- the data with coherent and incoherent scattering (blue),\n",
    "- the resulting incoherent curve (green),\n",
    "- the fitted models (orange),\n",
    "- the fit windows (gray and red boxes),\n",
    "- and the initial estimates (dashed vertical lines).\n",
    "\n",
    "Some fits failed as indicated by red boxes and short descriptions of why the fits failed.\n",
    "Some peaks are absent from the data used here, even though they are expected based on the crystal structure.\n",
    "So those fits are expected to fail.\n",
    "All other fits appear to have succeeded.\n",
    "\n",
    "See [scippneutron.peaks.fit_peaks](https://scipp.github.io/scippneutron/generated/modules/scippneutron.peaks.fit_peaks.html) for options to customize the fit procedure if it does not work as desired.\n",
    "\n",
    "<div class=\"alert alert-info\">\n",
    "\n",
    "**Note**\n",
    "\n",
    "It is highly recommended to inspect the plot in detail to check whether all fits have succeeded or failed as expected!\n",
    "Fitting is not always reliable and may fail for many reasons.\n",
    "You can make plots interactive by using `%matplotlib widget`.\n",
    "\n",
    "</div>"
   ]
  },
  {
   "cell_type": "code",
   "execution_count": null,
   "id": "0fd4e65a-35b3-4c12-a4ee-24649bda2551",
   "metadata": {},
   "outputs": [],
   "source": [
    "def peak_removal_diagnostic(\n",
    "    data: sc.DataArray,\n",
    "    removed: sc.DataArray,\n",
    "    fit_results: list[scn.peaks.FitResult],\n",
    "    peak_estimates: sc.Variable,\n",
    "    *,\n",
    "    xlim: tuple[sc.Variable, sc.Variable] | None=None,\n",
    "):\n",
    "    # The actual data\n",
    "    fig = data.plot(c=\"C0\")\n",
    "    ax = fig.ax\n",
    "    removed.plot(ax=ax, c='C2')\n",
    "\n",
    "    # Initial estimates\n",
    "    for estimate, result in zip(peak_estimates, fit_results, strict=True):\n",
    "        ax.axvline(\n",
    "            x=estimate.value,\n",
    "            color=\"black\" if result.success else \"red\",\n",
    "            alpha=0.5,\n",
    "            lw=1,\n",
    "            ls=\":\",\n",
    "        )\n",
    "\n",
    "    # Fit windows\n",
    "    for result in fit_results:\n",
    "        left = result.window[0]\n",
    "        right = result.window[1]\n",
    "        sl = data[data.dim, left:right]\n",
    "        lo = sl.min().value * 0.95\n",
    "        hi = sl.max().value * 1.05\n",
    "        ax.fill_betweenx(\n",
    "            (lo, hi),\n",
    "            left.value,\n",
    "            right.value,\n",
    "            facecolor=\"black\" if result.success else \"red\",\n",
    "            alpha=0.2,\n",
    "        )\n",
    "        if not result.success:\n",
    "            ax.text(left.value, hi, result.message.split(\":\", 1)[0])\n",
    "\n",
    "    # Overlay with fit models evaluated at optimized parameters\n",
    "    for result in fit_results:\n",
    "        if all(not sc.isnan(param).value for param in result.popt.values()):\n",
    "            best_fit = data[data.dim, result.window[0] : result.window[1]].copy(deep=False)\n",
    "            best_fit.coords[best_fit.dim] = sc.midpoints(best_fit.coords[best_fit.dim])\n",
    "            best_fit.data = result.eval_model(best_fit.coords[best_fit.dim])\n",
    "            best_fit.plot(ax=ax, c=\"C1\", ls=\"-\", marker=\"none\")\n",
    "\n",
    "    if xlim is not None:\n",
    "        x_unit = data.coords[data.dim].unit\n",
    "        ax.set_xlim((xlim[0].to(unit=x_unit).value,\n",
    "                     xlim[1].to(unit=x_unit).value))\n",
    "        in_lim = data[data.dim, xlim[0]:xlim[1]]\n",
    "        ax.set_ylim((in_lim.min().value*0.97, in_lim.max().value*1.06))\n",
    "\n",
    "    return fig"
   ]
  },
  {
   "cell_type": "code",
   "execution_count": null,
   "id": "bee3ae5a-ae4c-41a8-901b-b0fada19504c",
   "metadata": {},
   "outputs": [],
   "source": [
    "peak_removal_diagnostic(\n",
    "    peak_histogram,\n",
    "    incoherent,\n",
    "    fit_results,\n",
    "    peak_estimates,\n",
    ")"
   ]
  },
  {
   "cell_type": "code",
   "execution_count": null,
   "id": "fa420140-073c-4104-b9aa-990190f9bd4f",
   "metadata": {},
   "outputs": [],
   "source": [
    "peak_removal_diagnostic(\n",
    "    peak_histogram,\n",
    "    incoherent,\n",
    "    fit_results,\n",
    "    peak_estimates,\n",
    "    xlim=(0.37 * sc.Unit(\"Å\"), 0.56 * sc.Unit(\"Å\")),\n",
    ")"
   ]
  },
  {
   "cell_type": "markdown",
   "id": "6bab60d1-1ea9-4481-9f5c-1d55423766c7",
   "metadata": {},
   "source": [
    "The resulting data array `incoherent` can be saved and used in the main workflow [POWGEN_data_reduction](./POWGEN_data_reduction.rst) to replace `FocussedDataDspacing[VanadiumRun]`."
   ]
  }
 ],
 "metadata": {
  "kernelspec": {
   "display_name": "Python 3 (ipykernel)",
   "language": "python",
   "name": "python3"
  },
  "language_info": {
   "codemirror_mode": {
    "name": "ipython",
    "version": 3
   },
   "file_extension": ".py",
   "mimetype": "text/x-python",
   "name": "python",
   "nbconvert_exporter": "python",
   "pygments_lexer": "ipython3",
   "version": "3.10.13"
  }
 },
 "nbformat": 4,
 "nbformat_minor": 5
}
