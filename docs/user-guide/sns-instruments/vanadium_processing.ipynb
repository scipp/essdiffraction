{
 "cells": [
  {
   "cell_type": "markdown",
   "id": "0",
   "metadata": {},
   "source": [
    "# Vanadium processing\n",
    "\n",
    "The main workflow in [POWGEN_data_reduction](./POWGEN_data_reduction.rst) misses some reduction steps for vanadium.\n",
    "In particular, we need to remove coherent scattering peaks from vanadium data.\n",
    "This is not part of the regular workflow as it relies on fitting.\n",
    "And since fitting can easily break in a way that is hard to detect automatically, a human should inspect the results.\n",
    "Additionally, vanadium measurements can be processed separately from sample measurements and saved to files.\n",
    "The processed vanadium data can then be used in the main workflow directly.\n",
    "\n",
    "This notebook outlines how to process a vanadium run.\n",
    "First, we convert the data to d-spacing using the same workflow as in [POWGEN_data_reduction](./POWGEN_data_reduction.rst)."
   ]
  },
  {
   "cell_type": "code",
   "execution_count": null,
   "id": "1",
   "metadata": {},
   "outputs": [],
   "source": [
    "import plopp as pp\n",
    "import scipp as sc\n",
    "import scippneutron as scn\n",
    "import scippneutron.peaks\n",
    "\n",
    "from ess import powder\n",
    "from ess.snspowder import powgen\n",
    "from ess.powder.types import *"
   ]
  },
  {
   "cell_type": "markdown",
   "id": "2",
   "metadata": {},
   "source": [
    "Use the same parameters as in the main workflow except with more d-spacing bins.\n",
    "We need the high d-spacing resolution later when removing coherent scattering peaks."
   ]
  },
  {
   "cell_type": "code",
   "execution_count": null,
   "id": "3",
   "metadata": {},
   "outputs": [],
   "source": [
    "workflow = powgen.PowgenWorkflow()\n",
    "\n",
    "# Use a large number of bins.\n",
    "workflow[DspacingBins] = sc.linspace(\"dspacing\", 0.0, 2.3434, 5001, unit=\"angstrom\")\n",
    "\n",
    "workflow[Filename[SampleRun]] = powgen.data.powgen_tutorial_sample_file()\n",
    "workflow[Filename[VanadiumRun]] = powgen.data.powgen_tutorial_vanadium_file()\n",
    "workflow[CalibrationFilename] = powgen.data.powgen_tutorial_calibration_file()\n",
    "\n",
    "workflow[UncertaintyBroadcastMode] = UncertaintyBroadcastMode.drop\n",
    "\n",
    "workflow[TofMask] = lambda x: (x < sc.scalar(0.0, unit=\"us\")) | (x > sc.scalar(16666.67, unit=\"us\"))\n",
    "workflow[TwoThetaMask] = None\n",
    "workflow[WavelengthMask] = None\n",
    "\n",
    "workflow = powder.with_pixel_mask_filenames(workflow, [])"
   ]
  },
  {
   "cell_type": "markdown",
   "id": "4",
   "metadata": {},
   "source": [
    "Compute a single vanadium spectrum in d-spacing:"
   ]
  },
  {
   "cell_type": "code",
   "execution_count": null,
   "id": "5",
   "metadata": {},
   "outputs": [],
   "source": [
    "peaked_data = workflow.compute(FocussedDataDspacing[VanadiumRun])"
   ]
  },
  {
   "cell_type": "code",
   "execution_count": null,
   "id": "6",
   "metadata": {},
   "outputs": [],
   "source": [
    "peaked_data"
   ]
  },
  {
   "cell_type": "code",
   "execution_count": null,
   "id": "7",
   "metadata": {},
   "outputs": [],
   "source": [
    "peaked_data.hist().plot()"
   ]
  },
  {
   "cell_type": "markdown",
   "id": "8",
   "metadata": {},
   "source": [
    "## Removing coherent scattering peaks\n",
    "\n",
    "As the variable name `peaked_data` implies, the produced spectrum contains peaks from coherent scattering.\n",
    "Even though the peaks are small for vanadium, we need to remove them to extract pure incoherent scattering.\n",
    "We can approximate the coherent scattering contribution by fitting functions to the peaks and subtracting those fitted functions.\n",
    "[scippneutron.peaks](https://scipp.github.io/scippneutron/generated/modules/scippneutron.peaks.html) contains general functionality for fitting and removing peaks.\n",
    "Here, we use it through [ess.snspowder.powgen.peaks](../../generated/modules/ess.snspowder.powgen.peaks.rst) which provides useful defaults for vanadium peaks at POWGEN.\n",
    "For example, it selects appropriate models for peaks (gaussian) and backgrounds (linear and quadratic).\n",
    "\n",
    "First, define estimates for the peaks based on the known crystal structure of vanadium:"
   ]
  },
  {
   "cell_type": "code",
   "execution_count": null,
   "id": "9",
   "metadata": {},
   "outputs": [],
   "source": [
    "peak_estimates = powgen.peaks.theoretical_vanadium_dspacing(\n",
    "    hkl_range=7, min_d=sc.scalar(0.41, unit='angstrom')\n",
    ")"
   ]
  },
  {
   "cell_type": "markdown",
   "id": "10",
   "metadata": {},
   "source": [
    "We need to histogram the data to perform fits:"
   ]
  },
  {
   "cell_type": "code",
   "execution_count": null,
   "id": "11",
   "metadata": {},
   "outputs": [],
   "source": [
    "peak_histogram = peaked_data.hist()"
   ]
  },
  {
   "cell_type": "markdown",
   "id": "12",
   "metadata": {},
   "source": [
    "The fits require a bin-center coordinate, so convert from bin-edges:"
   ]
  },
  {
   "cell_type": "code",
   "execution_count": null,
   "id": "13",
   "metadata": {},
   "outputs": [],
   "source": [
    "to_fit = peak_histogram.copy(deep=False)\n",
    "to_fit.coords['dspacing'] = sc.midpoints(to_fit.coords['dspacing'])"
   ]
  },
  {
   "cell_type": "markdown",
   "id": "14",
   "metadata": {},
   "source": [
    "Perform the fits:"
   ]
  },
  {
   "cell_type": "code",
   "execution_count": null,
   "id": "15",
   "metadata": {},
   "outputs": [],
   "source": [
    "fit_results = powgen.peaks.fit_vanadium_peaks(to_fit, peak_estimates=peak_estimates)"
   ]
  },
  {
   "cell_type": "markdown",
   "id": "16",
   "metadata": {},
   "source": [
    "Remove the fitted peaks to obtain the incoherent scattering.\n",
    "Also restore the bin-edge coordinate that we had to replace temporarily for the fits.\n",
    "\n",
    "Importantly, we remove variances from the data.\n",
    "If we kept the variances, subtracting the fitted models would introduce correlations between the data points.\n",
    "This corresponds to [UncertaintyBroadcastMode.drop](../../generated/modules/ess.powder.types.UncertaintyBroadcastMode.rst) in the main workflow.\n",
    "See also the [guide in ESSreduce](https://scipp.github.io/essreduce/user-guide/reduction-workflow-guidelines.html#s-8-propagation-of-uncertainties-in-broadcast-operations-should-support-drop-and-upper-bound-strategies-upper-bound-shall-be-the-default)."
   ]
  },
  {
   "cell_type": "code",
   "execution_count": null,
   "id": "17",
   "metadata": {},
   "outputs": [],
   "source": [
    "incoherent = scn.peaks.remove_peaks(sc.values(to_fit), fit_results)\n",
    "incoherent.coords['dspacing'] = peak_histogram.coords['dspacing']\n",
    "incoherent.plot()"
   ]
  },
  {
   "cell_type": "markdown",
   "id": "18",
   "metadata": {},
   "source": [
    "We can further inspect the results.\n",
    "Below, there is a function that plots\n",
    "\n",
    "- the data with coherent and incoherent scattering (blue),\n",
    "- the resulting incoherent curve (green),\n",
    "- the fitted models (orange),\n",
    "- the fit windows (gray and red boxes),\n",
    "- and the initial estimates (dashed vertical lines).\n",
    "\n",
    "Some fits failed as indicated by red boxes and short descriptions of why the fits failed.\n",
    "Some peaks are absent from the data used here, even though they are expected based on the crystal structure.\n",
    "So those fits are expected to fail.\n",
    "All other fits appear to have succeeded.\n",
    "\n",
    "See [scippneutron.peaks.fit_peaks](https://scipp.github.io/scippneutron/generated/modules/scippneutron.peaks.fit_peaks.html) for options to customize the fit procedure if it does not work as desired.\n",
    "\n",
    "<div class=\"alert alert-info\">\n",
    "\n",
    "**Note**\n",
    "\n",
    "It is highly recommended to inspect the plot in detail to check whether all fits have succeeded or failed as expected!\n",
    "Fitting is not always reliable and may fail for many reasons.\n",
    "You can make plots interactive by using `%matplotlib widget`.\n",
    "\n",
    "</div>"
   ]
  },
  {
   "cell_type": "code",
   "execution_count": null,
   "id": "19",
   "metadata": {},
   "outputs": [],
   "source": [
    "def peak_removal_diagnostic(\n",
    "    data: sc.DataArray,\n",
    "    removed: sc.DataArray,\n",
    "    fit_results: list[scn.peaks.FitResult],\n",
    "    peak_estimates: sc.Variable,\n",
    "    *,\n",
    "    xlim: tuple[sc.Variable, sc.Variable] | None=None,\n",
    "):\n",
    "    if xlim is not None:\n",
    "        def in_range(x: sc.Variable) -> bool:\n",
    "            return sc.isfinite(x) and (xlim[0] <= x) and (x < xlim[1])\n",
    "        data = data[data.dim, xlim[0]:xlim[1]]\n",
    "        removed = removed[removed.dim, xlim[0]:xlim[1]]\n",
    "        fit_results, peak_estimates = zip(*(\n",
    "            (r, e)\n",
    "            for r, e in zip(fit_results, peak_estimates, strict=True)\n",
    "            if in_range(r.window[0]) and in_range(r.window[1])\n",
    "        ), strict=True)\n",
    "\n",
    "    # The actual data\n",
    "    plot_data = {'data': data, 'removed': removed}\n",
    "    linestyles = {}\n",
    "    markers = {}\n",
    "    colors = {'data': 'C0','removed': 'C2'}\n",
    "\n",
    "    # Overlay with fit models evaluated at optimized parameters\n",
    "    for i, result in enumerate(fit_results):\n",
    "        if all(not sc.isnan(param).value for param in result.popt.values()):\n",
    "            best_fit = data[data.dim, result.window[0] : result.window[1]].copy(deep=False)\n",
    "            best_fit.coords[best_fit.dim] = sc.midpoints(best_fit.coords[best_fit.dim])\n",
    "            best_fit.data = result.eval_model(best_fit.coords[best_fit.dim])\n",
    "\n",
    "            key = f'result_{i}'\n",
    "            plot_data[key] = best_fit\n",
    "            linestyles[key] = '-'\n",
    "            markers[key] = \"none\"\n",
    "            colors[key] = \"C1\"\n",
    "\n",
    "    fig = pp.plot(plot_data, ls=linestyles, marker=markers, c=colors, legend=False)\n",
    "    ax = fig.ax\n",
    "\n",
    "    # Initial estimates\n",
    "    for estimate, result in zip(peak_estimates, fit_results, strict=True):\n",
    "        ax.axvline(\n",
    "            x=estimate.value,\n",
    "            color=\"black\" if result.success else \"red\",\n",
    "            alpha=0.5,\n",
    "            lw=1,\n",
    "            ls=\":\",\n",
    "        )\n",
    "\n",
    "    # Fit windows\n",
    "    for result in fit_results:\n",
    "        left = result.window[0]\n",
    "        right = result.window[1]\n",
    "        sl = data[data.dim, left:right]\n",
    "        lo = sl.min().value * 0.95\n",
    "        hi = sl.max().value * 1.05\n",
    "        ax.fill_betweenx(\n",
    "            (lo, hi),\n",
    "            left.value,\n",
    "            right.value,\n",
    "            facecolor=\"black\" if result.success else \"red\",\n",
    "            alpha=0.2,\n",
    "        )\n",
    "        if not result.success:\n",
    "            ax.text(left.value, hi, result.message.split(\":\", 1)[0])\n",
    "\n",
    "    return fig"
   ]
  },
  {
   "cell_type": "code",
   "execution_count": null,
   "id": "20",
   "metadata": {},
   "outputs": [],
   "source": [
    "peak_removal_diagnostic(\n",
    "    peak_histogram,\n",
    "    incoherent,\n",
    "    fit_results,\n",
    "    peak_estimates,\n",
    ")"
   ]
  },
  {
   "cell_type": "code",
   "execution_count": null,
   "id": "21",
   "metadata": {},
   "outputs": [],
   "source": [
    "peak_removal_diagnostic(\n",
    "    peak_histogram,\n",
    "    incoherent,\n",
    "    fit_results,\n",
    "    peak_estimates,\n",
    "    xlim=(0.37 * sc.Unit(\"Å\"), 0.56 * sc.Unit(\"Å\")),\n",
    ")"
   ]
  },
  {
   "cell_type": "markdown",
   "id": "22",
   "metadata": {},
   "source": [
    "The resulting data array `incoherent` can be saved and used in the main workflow [POWGEN_data_reduction](./POWGEN_data_reduction.rst) to replace `FocussedDataDspacing[VanadiumRun]`."
   ]
  }
 ],
 "metadata": {
  "kernelspec": {
   "display_name": "Python 3 (ipykernel)",
   "language": "python",
   "name": "python3"
  },
  "language_info": {
   "codemirror_mode": {
    "name": "ipython",
    "version": 3
   },
   "file_extension": ".py",
   "mimetype": "text/x-python",
   "name": "python",
   "nbconvert_exporter": "python",
   "pygments_lexer": "ipython3",
   "version": "3.10.13"
  }
 },
 "nbformat": 4,
 "nbformat_minor": 5
}
