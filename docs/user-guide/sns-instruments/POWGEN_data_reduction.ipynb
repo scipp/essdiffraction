{
 "cells": [
  {
   "cell_type": "markdown",
   "id": "0",
   "metadata": {},
   "source": [
    "# POWGEN data reduction\n",
    "\n",
    "## Introduction\n",
    "\n",
    "This notebook gives a concise overview of how to use the ESSDiffraction package with Sciline.\n",
    "It uses a simple reduction workflow for the SNS [POWGEN](https://sns.gov/powgen) experiment.\n",
    "\n",
    "We begin with relevant imports.\n",
    "We will be using tutorial data downloaded with `pooch`.\n",
    "If you get an error about a missing module `pooch`, you can install it with `!pip install pooch`:"
   ]
  },
  {
   "cell_type": "code",
   "execution_count": null,
   "id": "1",
   "metadata": {},
   "outputs": [],
   "source": [
    "import scipp as sc\n",
    "import scippneutron as scn\n",
    "import scippneutron.io\n",
    "\n",
    "from ess import powder\n",
    "from ess.snspowder import powgen\n",
    "import ess.snspowder.powgen.data  # noqa: F401\n",
    "from ess.powder.types import *"
   ]
  },
  {
   "cell_type": "markdown",
   "id": "2",
   "metadata": {},
   "source": [
    "## Create and configure the workflow\n",
    "\n",
    "We begin by creating the Powgen workflow object which is a skeleton for reducing Powgen data, with pre-configured steps."
   ]
  },
  {
   "cell_type": "code",
   "execution_count": null,
   "id": "3",
   "metadata": {},
   "outputs": [],
   "source": [
    "workflow = powgen.PowgenWorkflow()"
   ]
  },
  {
   "cell_type": "markdown",
   "id": "4",
   "metadata": {},
   "source": [
    "We then need to set the missing parameters which are specific to each experiment\n",
    "(the keys are types defined in [essdiffraction.powder.types](../generated/modules/ess.diffraction.powder.types.rst)):"
   ]
  },
  {
   "cell_type": "code",
   "execution_count": null,
   "id": "5",
   "metadata": {},
   "outputs": [],
   "source": [
    "workflow[Filename[SampleRun]] = powgen.data.powgen_tutorial_sample_file()\n",
    "workflow[Filename[VanadiumRun]] = powgen.data.powgen_tutorial_vanadium_file()\n",
    "workflow[CalibrationFilename] = powgen.data.powgen_tutorial_calibration_file()\n",
    "# The upper bounds mode is not yet implemented.\n",
    "workflow[UncertaintyBroadcastMode] = UncertaintyBroadcastMode.drop\n",
    "# Edges for binning in d-spacing\n",
    "workflow[DspacingBins] = sc.linspace(\"dspacing\", 0.0, 2.3434, 201, unit=\"angstrom\")\n",
    "# Mask in time-of-flight to crop to valid range\n",
    "workflow[TofMask] = lambda x: (x < sc.scalar(0.0, unit=\"us\")) | (\n",
    "    x > sc.scalar(16666.67, unit=\"us\")\n",
    ")\n",
    "workflow[TwoThetaMask] = None\n",
    "workflow[WavelengthMask] = None\n",
    "# No pixel masks\n",
    "workflow = powder.with_pixel_mask_filenames(workflow, [])"
   ]
  },
  {
   "cell_type": "markdown",
   "id": "6",
   "metadata": {},
   "source": [
    "## Use the workflow\n",
    "\n",
    "### Compute final result\n",
    "\n",
    "We can get the graph for computing the final intensity as a function of d-spacing:"
   ]
  },
  {
   "cell_type": "code",
   "execution_count": null,
   "id": "7",
   "metadata": {},
   "outputs": [],
   "source": [
    "IofDspacing in workflow.get(IofDspacing).keys()"
   ]
  },
  {
   "cell_type": "code",
   "execution_count": null,
   "id": "8",
   "metadata": {},
   "outputs": [],
   "source": [
    "workflow.visualize(IofDspacing, graph_attr={\"rankdir\": \"LR\"})"
   ]
  },
  {
   "cell_type": "markdown",
   "id": "9",
   "metadata": {},
   "source": [
    "Now we compute the result:"
   ]
  },
  {
   "cell_type": "code",
   "execution_count": null,
   "id": "10",
   "metadata": {},
   "outputs": [],
   "source": [
    "result = workflow.compute(IofDspacing)\n",
    "result"
   ]
  },
  {
   "cell_type": "code",
   "execution_count": null,
   "id": "11",
   "metadata": {},
   "outputs": [],
   "source": [
    "dspacing_histogram = result.hist()\n",
    "dspacing_histogram.plot()"
   ]
  },
  {
   "cell_type": "markdown",
   "id": "12",
   "metadata": {},
   "source": [
    "### Save reduced data to file\n",
    "\n",
    "We ultimately need to write the reduced data to a file.\n",
    "This could be done with the `result` we computed above.\n",
    "But we can use the workflow to provide additional parameters (in this case only the file name) as shown below.\n",
    "See also the [File output](https://scipp.github.io/sciline/recipes/recipes.html#File-output) docs of Sciline.\n",
    "\n",
    "For simplicity we write a simply xye file with 3 columns: $d$-spacing, intensity, standard deviation of intensity."
   ]
  },
  {
   "cell_type": "code",
   "execution_count": null,
   "id": "13",
   "metadata": {},
   "outputs": [],
   "source": [
    "def save_xye(\n",
    "    reduced_data: IofDspacing,\n",
    "    out_filename: OutFilename,\n",
    ") -> None:\n",
    "    data = reduced_data.hist()\n",
    "    data.coords[\"dspacing\"] = sc.midpoints(data.coords[\"dspacing\"])\n",
    "    scn.io.save_xye(out_filename, data, coord=\"dspacing\")"
   ]
  },
  {
   "cell_type": "markdown",
   "id": "14",
   "metadata": {},
   "source": [
    "Insert a new parameter to set the file name.\n",
    "This could have been done at the top where the other parameters are defined."
   ]
  },
  {
   "cell_type": "code",
   "execution_count": null,
   "id": "15",
   "metadata": {},
   "outputs": [],
   "source": [
    "workflow[OutFilename] = \"reduced.xye\""
   ]
  },
  {
   "cell_type": "markdown",
   "id": "16",
   "metadata": {},
   "source": [
    "And use the workflow to write the file.\n",
    "Note that this recomputes the result!"
   ]
  },
  {
   "cell_type": "code",
   "execution_count": null,
   "id": "17",
   "metadata": {},
   "outputs": [],
   "source": [
    "workflow.bind_and_call(save_xye)"
   ]
  },
  {
   "cell_type": "markdown",
   "id": "18",
   "metadata": {},
   "source": [
    "### Compute intermediate results\n",
    "\n",
    "For inspection and debugging purposes, we can also compute intermediate results.\n",
    "To avoid repeated computation (including costly loading of files), we can request multiple results at once, including the final result, if desired.\n",
    "For example:"
   ]
  },
  {
   "cell_type": "code",
   "execution_count": null,
   "id": "19",
   "metadata": {},
   "outputs": [],
   "source": [
    "results = workflow.compute(\n",
    "    (\n",
    "        DetectorData[SampleRun],\n",
    "        MaskedData[SampleRun],\n",
    "        FilteredData[SampleRun],\n",
    "        FilteredData[VanadiumRun],\n",
    "    )\n",
    ")"
   ]
  },
  {
   "cell_type": "code",
   "execution_count": null,
   "id": "20",
   "metadata": {},
   "outputs": [],
   "source": [
    "results[DetectorData[SampleRun]]"
   ]
  },
  {
   "cell_type": "code",
   "execution_count": null,
   "id": "21",
   "metadata": {},
   "outputs": [],
   "source": [
    "results[MaskedData[SampleRun]].bins.concat().hist(wavelength=300).plot()"
   ]
  },
  {
   "cell_type": "code",
   "execution_count": null,
   "id": "22",
   "metadata": {},
   "outputs": [],
   "source": [
    "tof_data = sc.DataGroup(\n",
    "    sample=results[FilteredData[SampleRun]].bins.concat(),\n",
    "    vanadium=results[FilteredData[VanadiumRun]].bins.concat(),\n",
    ")\n",
    "tof_data.hist(tof=100).plot()"
   ]
  },
  {
   "cell_type": "markdown",
   "id": "23",
   "metadata": {},
   "source": [
    "## Group by scattering angle\n",
    "\n",
    "The above workflow focuses the data by merging all instrument pixels to produce a 1d d-spacing curve.\n",
    "If instead we want to group into $2\\theta$ bins, we can alter the workflow parameters by adding some binning in $2\\theta$:"
   ]
  },
  {
   "cell_type": "code",
   "execution_count": null,
   "id": "24",
   "metadata": {},
   "outputs": [],
   "source": [
    "workflow[TwoThetaBins] = sc.linspace(\n",
    "    dim=\"two_theta\", unit=\"deg\", start=25.0, stop=90.0, num=17\n",
    ").to(unit=\"rad\")"
   ]
  },
  {
   "cell_type": "markdown",
   "id": "25",
   "metadata": {},
   "source": [
    "We then have to request a final result that depends on both d-spacing and $2\\theta$:"
   ]
  },
  {
   "cell_type": "code",
   "execution_count": null,
   "id": "26",
   "metadata": {},
   "outputs": [],
   "source": [
    "workflow.visualize(IofDspacingTwoTheta, graph_attr={\"rankdir\": \"LR\"})"
   ]
  },
  {
   "cell_type": "markdown",
   "id": "27",
   "metadata": {},
   "source": [
    "Compute and plot the result:"
   ]
  },
  {
   "cell_type": "code",
   "execution_count": null,
   "id": "28",
   "metadata": {},
   "outputs": [],
   "source": [
    "grouped_dspacing = workflow.compute(IofDspacingTwoTheta)\n",
    "grouped_dspacing"
   ]
  },
  {
   "cell_type": "code",
   "execution_count": null,
   "id": "29",
   "metadata": {},
   "outputs": [],
   "source": [
    "angle = sc.midpoints(grouped_dspacing.coords[\"two_theta\"])\n",
    "sc.plot(\n",
    "    {\n",
    "        f\"{angle[group].value:.3f} {angle[group].unit}\": grouped_dspacing[\n",
    "            \"two_theta\", group\n",
    "        ].hist()\n",
    "        for group in range(2, 6)\n",
    "    }\n",
    ")"
   ]
  },
  {
   "cell_type": "markdown",
   "id": "30",
   "metadata": {},
   "source": [
    "Or we can view it as a 2D plot, which should display powder peaks as vertical bright lines:"
   ]
  },
  {
   "cell_type": "code",
   "execution_count": null,
   "id": "31",
   "metadata": {},
   "outputs": [],
   "source": [
    "grouped_dspacing.hist().plot()"
   ]
  }
 ],
 "metadata": {
  "kernelspec": {
   "display_name": "Python 3 (ipykernel)",
   "language": "python",
   "name": "python3"
  },
  "language_info": {
   "codemirror_mode": {
    "name": "ipython",
    "version": 3
   },
   "file_extension": ".py",
   "mimetype": "text/x-python",
   "name": "python",
   "nbconvert_exporter": "python",
   "pygments_lexer": "ipython3",
   "version": "3.10.14"
  }
 },
 "nbformat": 4,
 "nbformat_minor": 5
}
