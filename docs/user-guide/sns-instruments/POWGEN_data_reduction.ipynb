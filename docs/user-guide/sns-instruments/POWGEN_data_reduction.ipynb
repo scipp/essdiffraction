{
 "cells": [
  {
   "cell_type": "markdown",
   "id": "936a13e1-c9ea-4351-b29d-7dae9ad1e073",
   "metadata": {},
   "source": [
    "# POWGEN data reduction\n",
    "\n",
    "## Introduction\n",
    "\n",
    "This notebook gives a concise overview of how to use the ESSDiffraction package with Sciline.\n",
    "It uses a simple reduction workflow for the SNS [POWGEN](https://sns.gov/powgen) experiment.\n",
    "\n",
    "We begin with relevant imports:"
   ]
  },
  {
   "cell_type": "code",
   "execution_count": null,
   "id": "b160f394-de0b-4b73-9aa5-c13ac3a1d707",
   "metadata": {},
   "outputs": [],
   "source": [
    "import scipp as sc\n",
    "import scippneutron as scn\n",
    "import sciline\n",
    "\n",
    "from ess import powder\n",
    "from ess.powder.external import powgen\n",
    "from ess.powder.types import *"
   ]
  },
  {
   "cell_type": "markdown",
   "id": "6270f661-099f-4f8a-9380-76050f73f251",
   "metadata": {},
   "source": [
    "## Define reduction parameters\n",
    "\n",
    "We define a dictionary containing the reduction parameters.\n",
    "The keys are types defined in [essdiffraction.types](../generated/modules/ess.diffraction.types.rst)."
   ]
  },
  {
   "cell_type": "code",
   "execution_count": null,
   "id": "67e8d584-016d-422e-add9-a61e5b1fe8bd",
   "metadata": {},
   "outputs": [],
   "source": [
    "params = {\n",
    "    NeXusDetectorName: \"powgen_detector\",\n",
    "    # Input data\n",
    "    Filename[SampleRun]: powgen.data.powgen_tutorial_sample_file(),\n",
    "    Filename[VanadiumRun]: powgen.data.powgen_tutorial_vanadium_file(),\n",
    "    CalibrationFilename: powgen.data.powgen_tutorial_calibration_file(),\n",
    "    # The upper bounds mode is not yet implemented.\n",
    "    UncertaintyBroadcastMode: UncertaintyBroadcastMode.drop,\n",
    "    # Edges for binning in d-spacing\n",
    "    DspacingBins: sc.linspace(\"dspacing\", 0.0, 2.3434, 201, unit=\"angstrom\"),\n",
    "    # Mask in time-of-flight to crop to valid range\n",
    "    TofMask: lambda x: (x < sc.scalar(0.0, unit=\"us\"))\n",
    "    | (x > sc.scalar(16666.67, unit=\"us\")),\n",
    "    TwoThetaMask: None,\n",
    "    WavelengthMask: None,\n",
    "}"
   ]
  },
  {
   "cell_type": "markdown",
   "id": "e3d9b9bd-6923-4124-954f-e92672845be2",
   "metadata": {},
   "source": [
    "## Create pipeline using Sciline\n",
    "\n",
    "We use the basic providers available in `essdiffraction` as well as the specialised `powder` and `powgen` providers."
   ]
  },
  {
   "cell_type": "code",
   "execution_count": null,
   "id": "35412429-c039-4591-b8b8-49b11a128b7f",
   "metadata": {},
   "outputs": [],
   "source": [
    "providers = [*powder.providers, *powgen.providers]\n",
    "pipeline = sciline.Pipeline(providers, params=params)\n",
    "pipeline = powder.with_pixel_mask_filenames(pipeline, [])"
   ]
  },
  {
   "cell_type": "markdown",
   "id": "b4af9055-385d-41a4-9f1c-35fd1e232565",
   "metadata": {},
   "source": [
    "## Use the pipeline\n",
    "\n",
    "### Compute final result\n",
    "\n",
    "We can get the graph for computing the final intensity as a function of d-spacing:"
   ]
  },
  {
   "cell_type": "code",
   "execution_count": null,
   "id": "d3069da8-de3c-4cc3-bd14-ff8fcbf58e91",
   "metadata": {},
   "outputs": [],
   "source": [
    "pipeline.visualize(IofDspacing, graph_attr={\"rankdir\": \"LR\"})"
   ]
  },
  {
   "cell_type": "markdown",
   "id": "a3177aeb-51ae-4166-907b-1caa9cf751aa",
   "metadata": {},
   "source": [
    "Now we compute the result:"
   ]
  },
  {
   "cell_type": "code",
   "execution_count": null,
   "id": "14663b68-c9b8-444a-bf06-7454b67f8d82",
   "metadata": {},
   "outputs": [],
   "source": [
    "result = pipeline.compute(IofDspacing)\n",
    "result"
   ]
  },
  {
   "cell_type": "code",
   "execution_count": null,
   "id": "94792ed7-cfba-4467-9b5e-91211c5f2d89",
   "metadata": {},
   "outputs": [],
   "source": [
    "dspacing_histogram = result.hist()\n",
    "dspacing_histogram.plot()"
   ]
  },
  {
   "cell_type": "markdown",
   "id": "6335d026-d526-4ad4-bcda-7270e955d2c1",
   "metadata": {},
   "source": [
    "### Save reduced data to file\n",
    "\n",
    "We ultimately need to write the reduced data to a file.\n",
    "This could be done with the `result` we computed above.\n",
    "But we can use the pipeline to provide additional parameters (in this case only the file name) as shown below.\n",
    "See also the [File output](https://scipp.github.io/sciline/recipes/recipes.html#File-output) docs of Sciline.\n",
    "\n",
    "For simplicity we write a simply xye file with 3 columns: $d$-spacing, intensity, standard deviation of intensity."
   ]
  },
  {
   "cell_type": "code",
   "execution_count": null,
   "id": "2ad43ee3-5fe2-4891-b439-4ef1b2204d59",
   "metadata": {},
   "outputs": [],
   "source": [
    "def save_xye(\n",
    "    reduced_data: IofDspacing,\n",
    "    out_filename: OutFilename,\n",
    ") -> None:\n",
    "    data = reduced_data.hist()\n",
    "    data.coords[\"dspacing\"] = sc.midpoints(data.coords[\"dspacing\"])\n",
    "    scn.io.save_xye(out_filename, data, coord=\"dspacing\")"
   ]
  },
  {
   "cell_type": "markdown",
   "id": "c7f3b9c9-8d6c-4c22-bf56-10f042414d55",
   "metadata": {},
   "source": [
    "Insert a new parameter to set the file name.\n",
    "This could have been done at the top where the other parameters are defined."
   ]
  },
  {
   "cell_type": "code",
   "execution_count": null,
   "id": "afdee1fc-abe9-40e8-bae9-cc56e7896fc8",
   "metadata": {},
   "outputs": [],
   "source": [
    "pipeline[OutFilename] = \"reduced.xye\""
   ]
  },
  {
   "cell_type": "markdown",
   "id": "1eb08353-2bbd-4692-9f8d-7349ddc5d400",
   "metadata": {},
   "source": [
    "And use the pipeline to write the file.\n",
    "Note that this recomputes the result!"
   ]
  },
  {
   "cell_type": "code",
   "execution_count": null,
   "id": "d35257da-b7a8-47e3-bd90-3bdf98ee539b",
   "metadata": {},
   "outputs": [],
   "source": [
    "pipeline.bind_and_call(save_xye)"
   ]
  },
  {
   "cell_type": "markdown",
   "id": "0420ed62-aa60-466f-a823-f608ddc3abc5",
   "metadata": {},
   "source": [
    "### Compute intermediate results\n",
    "\n",
    "For inspection and debugging purposes, we can also compute intermediate results.\n",
    "To avoid repeated computation (including costly loading of files), we can request multiple results at once, including the final result, if desired.\n",
    "For example:"
   ]
  },
  {
   "cell_type": "code",
   "execution_count": null,
   "id": "300d11ce-203b-4c65-a7f6-9df5132f9830",
   "metadata": {},
   "outputs": [],
   "source": [
    "results = pipeline.compute(\n",
    "    (\n",
    "        ReducibleDetectorData[SampleRun],\n",
    "        MaskedData[SampleRun],\n",
    "        FilteredData[SampleRun],\n",
    "        FilteredData[VanadiumRun],\n",
    "    )\n",
    ")"
   ]
  },
  {
   "cell_type": "code",
   "execution_count": null,
   "id": "b57d17b6-926a-4b75-8221-5ed27f59997d",
   "metadata": {},
   "outputs": [],
   "source": [
    "results[ReducibleDetectorData[SampleRun]]"
   ]
  },
  {
   "cell_type": "code",
   "execution_count": null,
   "id": "57d72dd9-7f21-4691-b478-109194cc9c13",
   "metadata": {},
   "outputs": [],
   "source": [
    "results[MaskedData[SampleRun]].bins.concat().hist(wavelength=300).plot()"
   ]
  },
  {
   "cell_type": "code",
   "execution_count": null,
   "id": "e5547f3e-908c-4dcb-a700-c4aa5098073c",
   "metadata": {},
   "outputs": [],
   "source": [
    "tof_data = sc.DataGroup(\n",
    "    sample=results[FilteredData[SampleRun]].bins.concat(),\n",
    "    vanadium=results[FilteredData[VanadiumRun]].bins.concat(),\n",
    ")\n",
    "tof_data.hist(tof=100).plot()"
   ]
  },
  {
   "cell_type": "markdown",
   "id": "4048b5ad-acfa-4584-8cf6-8ebe2cba6801",
   "metadata": {},
   "source": [
    "## Group by scattering angle\n",
    "\n",
    "The above pipeline focuses the data by merging all instrument pixels to produce a 1d d-spacing curve.\n",
    "If instead we want to group into $2\\theta$ bins, we can alter the pipeline parameters by adding some binning in $2\\theta$:"
   ]
  },
  {
   "cell_type": "code",
   "execution_count": null,
   "id": "a4b68853-a70b-42d6-a8cc-58c77e83eaec",
   "metadata": {},
   "outputs": [],
   "source": [
    "pipeline[TwoThetaBins] = sc.linspace(\n",
    "    dim=\"two_theta\", unit=\"deg\", start=25.0, stop=90.0, num=17\n",
    ").to(unit=\"rad\")"
   ]
  },
  {
   "cell_type": "markdown",
   "id": "c8377091-43b5-467a-8f86-b58a96a3dc89",
   "metadata": {},
   "source": [
    "We then have to request a final result that depends on both d-spacing and $2\\theta$:"
   ]
  },
  {
   "cell_type": "code",
   "execution_count": null,
   "id": "e88eb36e-9377-4415-8123-a8916fd14793",
   "metadata": {},
   "outputs": [],
   "source": [
    "pipeline.visualize(IofDspacingTwoTheta, graph_attr={\"rankdir\": \"LR\"})"
   ]
  },
  {
   "cell_type": "markdown",
   "id": "2a8a0853-2829-49ab-b343-31deca3de31c",
   "metadata": {},
   "source": [
    "Compute and plot the result:"
   ]
  },
  {
   "cell_type": "code",
   "execution_count": null,
   "id": "a63e037d-3cfc-4ac9-963c-1e2d0881d482",
   "metadata": {},
   "outputs": [],
   "source": [
    "grouped_dspacing = pipeline.compute(IofDspacingTwoTheta)\n",
    "grouped_dspacing"
   ]
  },
  {
   "cell_type": "code",
   "execution_count": null,
   "id": "7ca04947-b019-4814-9467-4d0519d8d384",
   "metadata": {},
   "outputs": [],
   "source": [
    "angle = sc.midpoints(grouped_dspacing.coords[\"two_theta\"])\n",
    "sc.plot(\n",
    "    {\n",
    "        f\"{angle[group].value:.3f} {angle[group].unit}\": grouped_dspacing[\n",
    "            \"two_theta\", group\n",
    "        ].hist()\n",
    "        for group in range(2, 6)\n",
    "    }\n",
    ")"
   ]
  },
  {
   "cell_type": "markdown",
   "id": "3de8061a-7c28-48e2-b569-a08fa09f1295",
   "metadata": {},
   "source": [
    "Or we can view it as a 2D plot, which should display powder peaks as vertical bright lines:"
   ]
  },
  {
   "cell_type": "code",
   "execution_count": null,
   "id": "4c9ee765-0699-4ca2-9bd8-f8dea27a261c",
   "metadata": {},
   "outputs": [],
   "source": [
    "grouped_dspacing.hist().plot()"
   ]
  }
 ],
 "metadata": {
  "kernelspec": {
   "display_name": "Python 3 (ipykernel)",
   "language": "python",
   "name": "python3"
  },
  "language_info": {
   "codemirror_mode": {
    "name": "ipython",
    "version": 3
   },
   "file_extension": ".py",
   "mimetype": "text/x-python",
   "name": "python",
   "nbconvert_exporter": "python",
   "pygments_lexer": "ipython3",
   "version": "3.10.12"
  }
 },
 "nbformat": 4,
 "nbformat_minor": 5
}
