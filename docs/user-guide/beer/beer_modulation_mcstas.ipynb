{
 "cells": [
  {
   "cell_type": "code",
   "execution_count": null,
   "id": "0",
   "metadata": {},
   "outputs": [],
   "source": [
    "%matplotlib ipympl"
   ]
  },
  {
   "cell_type": "markdown",
   "id": "1",
   "metadata": {},
   "source": [
    "# BEER (modulation) McStas data reduction"
   ]
  },
  {
   "cell_type": "code",
   "execution_count": null,
   "id": "2",
   "metadata": {},
   "outputs": [],
   "source": [
    "import scipp as sc\n",
    "import scippneutron as scn\n",
    "\n",
    "from ess.beer import BeerModMcStasWorkflow, BeerModMcStasWorkflowKnownPeaks\n",
    "from ess.beer.data import mcstas_silicon_medium_resolution, mcstas_duplex, mcstas_quartz, duplex_peaks_array, silicon_peaks_array, quartz_peaks_array\n",
    "from ess.reduce.nexus.types import Filename, SampleRun\n",
    "from ess.reduce.time_of_flight.types import DetectorTofData\n",
    "from ess.beer.types import *\n",
    "\n",
    "# Default bin edges for our d_hkl histograms\n",
    "dspacing = sc.linspace('dspacing', 0.8, 2.2, 2000, unit='angstrom')\n",
    "\n",
    "def ground_truth_peak_positions(p, arr):\n",
    "    'Helper to display the true peak positions for comparison'\n",
    "    p.ax.vlines(arr.values, 0, 20000, linestyle='--', color='black', lw=0.5, label='true $d_{hkl}$')\n",
    "    return p"
   ]
  },
  {
   "cell_type": "markdown",
   "id": "3",
   "metadata": {},
   "source": [
    "## Quick examples using 3 different samples at mode 9 (medium resolution)"
   ]
  },
  {
   "cell_type": "markdown",
   "id": "4",
   "metadata": {},
   "source": [
    "### Duplex sample \n",
    "#### Known peaks workflow"
   ]
  },
  {
   "cell_type": "code",
   "execution_count": null,
   "id": "5",
   "metadata": {},
   "outputs": [],
   "source": [
    "%%time\n",
    "wf = BeerModMcStasWorkflowKnownPeaks()\n",
    "wf[DHKLList] = duplex_peaks_array()\n",
    "wf[Filename[SampleRun]] = mcstas_duplex(9)\n",
    "da = wf.compute(DetectorTofData[SampleRun])\n",
    "da = da.transform_coords(('dspacing',), graph=scn.conversion.graph.tof.elastic('tof'),)\n",
    "ground_truth_peak_positions(da.hist(dspacing=dspacing).plot(), duplex_peaks_array())"
   ]
  },
  {
   "cell_type": "markdown",
   "id": "6",
   "metadata": {},
   "source": [
    "#### Automatic peak finder workflow"
   ]
  },
  {
   "cell_type": "code",
   "execution_count": null,
   "id": "7",
   "metadata": {},
   "outputs": [],
   "source": [
    "%%time\n",
    "wf = BeerModMcStasWorkflow()\n",
    "wf[ModulationPeriod] = sc.scalar(9e-4, unit='s')\n",
    "wf[Filename[SampleRun]] = mcstas_duplex(9)\n",
    "da = wf.compute(DetectorTofData[SampleRun])\n",
    "da = da.transform_coords(('dspacing',), graph=scn.conversion.graph.tof.elastic('tof'),)\n",
    "ground_truth_peak_positions(da.hist(dspacing=dspacing, dim=da.dims).plot(), duplex_peaks_array())"
   ]
  },
  {
   "cell_type": "markdown",
   "id": "8",
   "metadata": {},
   "source": [
    "### Silicon sample\n",
    "\n",
    "#### Known peaks workflow"
   ]
  },
  {
   "cell_type": "code",
   "execution_count": null,
   "id": "9",
   "metadata": {},
   "outputs": [],
   "source": [
    "%%time\n",
    "wf = BeerModMcStasWorkflowKnownPeaks()\n",
    "wf[DHKLList] = silicon_peaks_array()\n",
    "wf[Filename[SampleRun]] = mcstas_silicon_medium_resolution()\n",
    "da = wf.compute(DetectorTofData[SampleRun])\n",
    "da = da.transform_coords(('dspacing',), graph=scn.conversion.graph.tof.elastic('tof'),)\n",
    "ground_truth_peak_positions(da.hist(dspacing=dspacing).plot(), silicon_peaks_array())"
   ]
  },
  {
   "cell_type": "markdown",
   "id": "10",
   "metadata": {},
   "source": [
    "#### Automatic peak finder workflow"
   ]
  },
  {
   "cell_type": "code",
   "execution_count": null,
   "id": "11",
   "metadata": {},
   "outputs": [],
   "source": [
    "%%time\n",
    "wf = BeerModMcStasWorkflow()\n",
    "wf[Filename[SampleRun]] = mcstas_silicon_medium_resolution()\n",
    "da = wf.compute(DetectorTofData[SampleRun])\n",
    "da = da.transform_coords(('dspacing',), graph=scn.conversion.graph.tof.elastic('tof'),)\n",
    "ground_truth_peak_positions(da.hist(dspacing=dspacing, dim=da.dims).plot(), silicon_peaks_array())"
   ]
  },
  {
   "cell_type": "code",
   "execution_count": null,
   "id": "12",
   "metadata": {},
   "outputs": [],
   "source": [
    "wf.compute(DetectorData[SampleRun])['bank2'].hist(two_theta=1000, event_time_offset=1000).plot(norm='log')"
   ]
  },
  {
   "cell_type": "markdown",
   "id": "13",
   "metadata": {},
   "source": [
    "### Quartz sample\n",
    "#### Known peaks workflow"
   ]
  },
  {
   "cell_type": "code",
   "execution_count": null,
   "id": "14",
   "metadata": {},
   "outputs": [],
   "source": [
    "%%time\n",
    "wf = BeerModMcStasWorkflowKnownPeaks()\n",
    "# The quartz_peak_array is very long, restrict it to the dspacing region of interest!\n",
    "wf[DHKLList] = quartz_peaks_array()[(dspacing[0] <= quartz_peaks_array()) & (quartz_peaks_array() <= dspacing[-1])]\n",
    "wf[Filename[SampleRun]] = mcstas_quartz(9)\n",
    "da = wf.compute(DetectorTofData[SampleRun])\n",
    "da = da.transform_coords(('dspacing',), graph=scn.conversion.graph.tof.elastic('tof'),)\n",
    "ground_truth_peak_positions(da.hist(dspacing=dspacing).plot(), quartz_peaks_array())"
   ]
  },
  {
   "cell_type": "markdown",
   "id": "15",
   "metadata": {},
   "source": [
    "#### Automatic peak finder workflow"
   ]
  },
  {
   "cell_type": "code",
   "execution_count": null,
   "id": "16",
   "metadata": {},
   "outputs": [],
   "source": [
    "%%time\n",
    "wf = BeerModMcStasWorkflow()\n",
    "wf[Filename[SampleRun]] = mcstas_quartz(9)\n",
    "da = wf.compute(DetectorTofData[SampleRun])\n",
    "da = da.transform_coords(('dspacing',), graph=scn.conversion.graph.tof.elastic('tof'),)\n",
    "ground_truth_peak_positions(da.hist(dspacing=dspacing, dim=da.dims).plot(), quartz_peaks_array())"
   ]
  },
  {
   "cell_type": "markdown",
   "id": "17",
   "metadata": {},
   "source": [
    "The quartz sample has many overlapping peaks, which makes the modulation correction difficult:"
   ]
  },
  {
   "cell_type": "code",
   "execution_count": null,
   "id": "18",
   "metadata": {},
   "outputs": [],
   "source": [
    "wf.compute(DetectorData[SampleRun])['bank2'].hist(two_theta=1000, event_time_offset=1000).plot(norm='log')"
   ]
  },
  {
   "cell_type": "markdown",
   "id": "19",
   "metadata": {},
   "source": [
    "## Duplex sample - Different chopper modes"
   ]
  },
  {
   "cell_type": "markdown",
   "id": "20",
   "metadata": {},
   "source": [
    "### Automatic peak finder workflow"
   ]
  },
  {
   "cell_type": "markdown",
   "id": "21",
   "metadata": {},
   "source": [
    "#### Mode 7"
   ]
  },
  {
   "cell_type": "code",
   "execution_count": null,
   "id": "22",
   "metadata": {},
   "outputs": [],
   "source": [
    "wf = BeerModMcStasWorkflow()\n",
    "wf[Filename[SampleRun]] = mcstas_duplex(7)\n",
    "wf.compute(DetectorData[SampleRun])['bank1'].hist(two_theta=1000, event_time_offset=1000).plot(norm='log')"
   ]
  },
  {
   "cell_type": "code",
   "execution_count": null,
   "id": "23",
   "metadata": {},
   "outputs": [],
   "source": [
    "%%time\n",
    "da = wf.compute(DetectorTofData[SampleRun])\n",
    "da = da.transform_coords(('dspacing',), graph=scn.conversion.graph.tof.elastic('tof'),)\n",
    "p = da.hist(dspacing=dspacing, dim=da.dims).plot()\n",
    "ground_truth_peak_positions(da.hist(dspacing=dspacing, dim=da.dims).plot(), duplex_peaks_array())"
   ]
  },
  {
   "cell_type": "markdown",
   "id": "24",
   "metadata": {},
   "source": [
    "#### Mode 8"
   ]
  },
  {
   "cell_type": "code",
   "execution_count": null,
   "id": "25",
   "metadata": {},
   "outputs": [],
   "source": [
    "wf = BeerModMcStasWorkflow()\n",
    "wf[Filename[SampleRun]] = mcstas_duplex(8)\n",
    "wf.compute(DetectorData[SampleRun])['bank1'].hist(two_theta=1000, event_time_offset=1000).plot(norm='log')"
   ]
  },
  {
   "cell_type": "code",
   "execution_count": null,
   "id": "26",
   "metadata": {},
   "outputs": [],
   "source": [
    "da = wf.compute(DetectorTofData[SampleRun])\n",
    "da = da.transform_coords(('dspacing',), graph=scn.conversion.graph.tof.elastic('tof'),)\n",
    "ground_truth_peak_positions(da.hist(dspacing=dspacing, dim=da.dims).plot(), duplex_peaks_array())"
   ]
  },
  {
   "cell_type": "markdown",
   "id": "27",
   "metadata": {},
   "source": [
    "#### Mode 9"
   ]
  },
  {
   "cell_type": "code",
   "execution_count": null,
   "id": "28",
   "metadata": {},
   "outputs": [],
   "source": [
    "wf = BeerModMcStasWorkflow()\n",
    "wf[Filename[SampleRun]] = mcstas_duplex(9)\n",
    "wf.compute(DetectorData[SampleRun])['bank1'].hist(two_theta=1000, event_time_offset=1000).plot(norm='log')"
   ]
  },
  {
   "cell_type": "code",
   "execution_count": null,
   "id": "29",
   "metadata": {},
   "outputs": [],
   "source": [
    "da = wf.compute(DetectorTofData[SampleRun])\n",
    "da = da.transform_coords(('dspacing',), graph=scn.conversion.graph.tof.elastic('tof'),)\n",
    "ground_truth_peak_positions(da.hist(dspacing=dspacing, dim=da.dims).plot(), duplex_peaks_array())"
   ]
  },
  {
   "cell_type": "code",
   "execution_count": null,
   "id": "30",
   "metadata": {},
   "outputs": [],
   "source": [
    "da = da['bank2'].copy()\n",
    "da.masks.clear()\n",
    "da.bins.masks['too_far_from_center'] = ~da.bins.masks.pop('too_far_from_center')\n",
    "\n",
    "da.bins.concat().hist(two_theta=1000, event_time_offset=1000).plot(norm='log')"
   ]
  },
  {
   "cell_type": "markdown",
   "id": "31",
   "metadata": {},
   "source": [
    "#### Mode 10"
   ]
  },
  {
   "cell_type": "code",
   "execution_count": null,
   "id": "32",
   "metadata": {},
   "outputs": [],
   "source": [
    "wf = BeerModMcStasWorkflow()\n",
    "wf[Filename[SampleRun]] = mcstas_duplex(10)\n",
    "wf.compute(DetectorData[SampleRun])['bank1'].hist(two_theta=1000, event_time_offset=1000).plot(norm='log')"
   ]
  },
  {
   "cell_type": "code",
   "execution_count": null,
   "id": "33",
   "metadata": {},
   "outputs": [],
   "source": [
    "da = wf.compute(DetectorTofData[SampleRun])\n",
    "da = da.transform_coords(('dspacing',), graph=scn.conversion.graph.tof.elastic('tof'),)\n",
    "ground_truth_peak_positions(da.hist(dspacing=dspacing, dim=da.dims).plot(), duplex_peaks_array())"
   ]
  },
  {
   "cell_type": "code",
   "execution_count": null,
   "id": "34",
   "metadata": {},
   "outputs": [],
   "source": [
    "da = da['bank1'].copy()\n",
    "da.masks.clear()\n",
    "da.bins.masks['too_far_from_center'] = ~da.bins.masks.pop('too_far_from_center')\n",
    "\n",
    "da.bins.concat().hist(two_theta=1000, event_time_offset=1000).plot(norm='log')"
   ]
  },
  {
   "cell_type": "markdown",
   "id": "35",
   "metadata": {},
   "source": [
    "#### Mode 16"
   ]
  },
  {
   "cell_type": "code",
   "execution_count": null,
   "id": "36",
   "metadata": {},
   "outputs": [],
   "source": [
    "wf = BeerModMcStasWorkflow()\n",
    "wf[Filename[SampleRun]] = mcstas_duplex(16)\n",
    "wf.compute(DetectorData[SampleRun])['bank1'].hist(two_theta=1000, event_time_offset=1000).plot(norm='log')"
   ]
  },
  {
   "cell_type": "code",
   "execution_count": null,
   "id": "37",
   "metadata": {},
   "outputs": [],
   "source": [
    "da = wf.compute(DetectorTofData[SampleRun])\n",
    "da = da.transform_coords(('dspacing',), graph=scn.conversion.graph.tof.elastic('tof'),)\n",
    "ground_truth_peak_positions(da.hist(dspacing=dspacing, dim=da.dims).plot(), duplex_peaks_array())"
   ]
  },
  {
   "cell_type": "code",
   "execution_count": null,
   "id": "38",
   "metadata": {},
   "outputs": [],
   "source": [
    "da = da['bank1'].copy()\n",
    "da.masks.clear()\n",
    "da.bins.masks['too_far_from_center'] = ~da.bins.masks.pop('too_far_from_center')\n",
    "\n",
    "da.bins.concat().hist(two_theta=1000, event_time_offset=1000).plot(norm='log')"
   ]
  },
  {
   "cell_type": "markdown",
   "id": "39",
   "metadata": {},
   "source": [
    "### Known peaks workflow"
   ]
  },
  {
   "cell_type": "markdown",
   "id": "40",
   "metadata": {},
   "source": [
    "#### Mode 7"
   ]
  },
  {
   "cell_type": "code",
   "execution_count": null,
   "id": "41",
   "metadata": {},
   "outputs": [],
   "source": [
    "wf = BeerModMcStasWorkflowKnownPeaks()\n",
    "wf[DHKLList] = duplex_peaks_array()\n",
    "wf[Filename[SampleRun]] = mcstas_duplex(7)\n",
    "da = wf.compute(DetectorTofData[SampleRun])\n",
    "da = da.transform_coords(('dspacing',), graph=scn.conversion.graph.tof.elastic('tof'),)\n",
    "ground_truth_peak_positions(da.hist(dspacing=dspacing, dim=da.dims).plot(), duplex_peaks_array())"
   ]
  },
  {
   "cell_type": "markdown",
   "id": "42",
   "metadata": {},
   "source": [
    "#### Mode 8"
   ]
  },
  {
   "cell_type": "code",
   "execution_count": null,
   "id": "43",
   "metadata": {},
   "outputs": [],
   "source": [
    "wf = BeerModMcStasWorkflowKnownPeaks()\n",
    "wf[DHKLList] = duplex_peaks_array()\n",
    "wf[Filename[SampleRun]] = mcstas_duplex(8)\n",
    "da = wf.compute(DetectorTofData[SampleRun])\n",
    "da = da.transform_coords(('dspacing',), graph=scn.conversion.graph.tof.elastic('tof'),)\n",
    "ground_truth_peak_positions(da.hist(dspacing=dspacing, dim=da.dims).plot(), duplex_peaks_array())"
   ]
  },
  {
   "cell_type": "markdown",
   "id": "44",
   "metadata": {},
   "source": [
    "#### Mode 9"
   ]
  },
  {
   "cell_type": "code",
   "execution_count": null,
   "id": "45",
   "metadata": {},
   "outputs": [],
   "source": [
    "wf = BeerModMcStasWorkflowKnownPeaks()\n",
    "wf[DHKLList] = duplex_peaks_array()\n",
    "wf[Filename[SampleRun]] = mcstas_duplex(9)\n",
    "da = wf.compute(DetectorTofData[SampleRun])\n",
    "da = da.transform_coords(('dspacing',), graph=scn.conversion.graph.tof.elastic('tof'),)\n",
    "ground_truth_peak_positions(da.hist(dspacing=dspacing, dim=da.dims).plot(), duplex_peaks_array())"
   ]
  },
  {
   "cell_type": "markdown",
   "id": "46",
   "metadata": {},
   "source": [
    "#### Mode 10"
   ]
  },
  {
   "cell_type": "code",
   "execution_count": null,
   "id": "47",
   "metadata": {},
   "outputs": [],
   "source": [
    "wf = BeerModMcStasWorkflowKnownPeaks()\n",
    "wf[DHKLList] = duplex_peaks_array()\n",
    "wf[Filename[SampleRun]] = mcstas_duplex(10)\n",
    "da = wf.compute(DetectorTofData[SampleRun])\n",
    "da = da.transform_coords(('dspacing',), graph=scn.conversion.graph.tof.elastic('tof'),)\n",
    "ground_truth_peak_positions(da.hist(dspacing=dspacing, dim=da.dims).plot(), duplex_peaks_array())"
   ]
  },
  {
   "cell_type": "markdown",
   "id": "48",
   "metadata": {},
   "source": [
    "#### Mode 16"
   ]
  },
  {
   "cell_type": "code",
   "execution_count": null,
   "id": "49",
   "metadata": {},
   "outputs": [],
   "source": [
    "wf = BeerModMcStasWorkflowKnownPeaks()\n",
    "wf[DHKLList] = duplex_peaks_array()\n",
    "wf[Filename[SampleRun]] = mcstas_duplex(16)\n",
    "da = wf.compute(DetectorTofData[SampleRun])\n",
    "da = da.transform_coords(('dspacing',), graph=scn.conversion.graph.tof.elastic('tof'),)\n",
    "ground_truth_peak_positions(da.hist(dspacing=dspacing, dim=da.dims).plot(), duplex_peaks_array())"
   ]
  },
  {
   "cell_type": "markdown",
   "id": "50",
   "metadata": {},
   "source": [
    "## Quartz sample - Different chopper modes"
   ]
  },
  {
   "cell_type": "code",
   "execution_count": null,
   "id": "51",
   "metadata": {},
   "outputs": [],
   "source": [
    "dspacing = sc.linspace('dspacing', 0.8, 2.5, 2000, unit='angstrom')"
   ]
  },
  {
   "cell_type": "markdown",
   "id": "52",
   "metadata": {},
   "source": [
    "### Automatic peak finder workflow"
   ]
  },
  {
   "cell_type": "markdown",
   "id": "53",
   "metadata": {},
   "source": [
    "#### Mode 7"
   ]
  },
  {
   "cell_type": "code",
   "execution_count": null,
   "id": "54",
   "metadata": {},
   "outputs": [],
   "source": [
    "wf = BeerModMcStasWorkflow()\n",
    "wf[Filename[SampleRun]] = mcstas_quartz(7)\n",
    "wf.compute(DetectorData[SampleRun])['bank1'].hist(two_theta=1000, event_time_offset=1000).plot(norm='log')"
   ]
  },
  {
   "cell_type": "code",
   "execution_count": null,
   "id": "55",
   "metadata": {},
   "outputs": [],
   "source": [
    "%%time\n",
    "da = wf.compute(DetectorTofData[SampleRun])\n",
    "da = da.transform_coords(('dspacing',), graph=scn.conversion.graph.tof.elastic('tof'),)\n",
    "ground_truth_peak_positions(da.hist(dspacing=dspacing, dim=da.dims).plot(), quartz_peaks_array())"
   ]
  },
  {
   "cell_type": "markdown",
   "id": "56",
   "metadata": {},
   "source": [
    "#### Mode 8"
   ]
  },
  {
   "cell_type": "code",
   "execution_count": null,
   "id": "57",
   "metadata": {},
   "outputs": [],
   "source": [
    "wf = BeerModMcStasWorkflow()\n",
    "wf[Filename[SampleRun]] = mcstas_quartz(8)\n",
    "wf.compute(DetectorData[SampleRun])['bank1'].hist(two_theta=1000, event_time_offset=1000).plot(norm='log')"
   ]
  },
  {
   "cell_type": "code",
   "execution_count": null,
   "id": "58",
   "metadata": {},
   "outputs": [],
   "source": [
    "da = wf.compute(DetectorTofData[SampleRun])\n",
    "da = da.transform_coords(('dspacing',), graph=scn.conversion.graph.tof.elastic('tof'),)\n",
    "ground_truth_peak_positions(da.hist(dspacing=dspacing, dim=da.dims).plot(), quartz_peaks_array())"
   ]
  },
  {
   "cell_type": "markdown",
   "id": "59",
   "metadata": {},
   "source": [
    "#### Mode 9"
   ]
  },
  {
   "cell_type": "code",
   "execution_count": null,
   "id": "60",
   "metadata": {},
   "outputs": [],
   "source": [
    "wf = BeerModMcStasWorkflow()\n",
    "wf[Filename[SampleRun]] = mcstas_quartz(9)\n",
    "wf.compute(DetectorData[SampleRun])['bank1'].hist(two_theta=1000, event_time_offset=1000).plot(norm='log')"
   ]
  },
  {
   "cell_type": "code",
   "execution_count": null,
   "id": "61",
   "metadata": {},
   "outputs": [],
   "source": [
    "da = wf.compute(DetectorTofData[SampleRun])\n",
    "da = da.transform_coords(('dspacing',), graph=scn.conversion.graph.tof.elastic('tof'),)\n",
    "ground_truth_peak_positions(da.hist(dspacing=dspacing, dim=da.dims).plot(), quartz_peaks_array())"
   ]
  },
  {
   "cell_type": "code",
   "execution_count": null,
   "id": "62",
   "metadata": {},
   "outputs": [],
   "source": [
    "da = da['bank2'].copy()\n",
    "da.masks.clear()\n",
    "da.bins.masks['too_far_from_center'] = ~da.bins.masks.pop('too_far_from_center')\n",
    "\n",
    "da.bins.concat().hist(two_theta=1000, event_time_offset=1000).plot(norm='log')"
   ]
  },
  {
   "cell_type": "markdown",
   "id": "63",
   "metadata": {},
   "source": [
    "#### Mode 10"
   ]
  },
  {
   "cell_type": "code",
   "execution_count": null,
   "id": "64",
   "metadata": {},
   "outputs": [],
   "source": [
    "wf = BeerModMcStasWorkflow()\n",
    "wf[Filename[SampleRun]] = mcstas_quartz(10)\n",
    "wf.compute(DetectorData[SampleRun])['bank1'].hist(two_theta=1000, event_time_offset=1000).plot(norm='log')"
   ]
  },
  {
   "cell_type": "code",
   "execution_count": null,
   "id": "65",
   "metadata": {},
   "outputs": [],
   "source": [
    "da = wf.compute(DetectorTofData[SampleRun])\n",
    "da = da.transform_coords(('dspacing',), graph=scn.conversion.graph.tof.elastic('tof'),)\n",
    "ground_truth_peak_positions(da.hist(dspacing=dspacing, dim=da.dims).plot(), quartz_peaks_array())"
   ]
  },
  {
   "cell_type": "code",
   "execution_count": null,
   "id": "66",
   "metadata": {},
   "outputs": [],
   "source": [
    "da = da['bank1'].copy()\n",
    "da.masks.clear()\n",
    "da.bins.masks['too_far_from_center'] = ~da.bins.masks.pop('too_far_from_center')\n",
    "\n",
    "da.bins.concat().hist(two_theta=1000, event_time_offset=1000).plot(norm='log')"
   ]
  },
  {
   "cell_type": "markdown",
   "id": "67",
   "metadata": {},
   "source": [
    "#### Mode 16"
   ]
  },
  {
   "cell_type": "code",
   "execution_count": null,
   "id": "68",
   "metadata": {},
   "outputs": [],
   "source": [
    "wf = BeerModMcStasWorkflow()\n",
    "wf[Filename[SampleRun]] = mcstas_quartz(16)\n",
    "wf.compute(DetectorData[SampleRun])['bank1'].hist(two_theta=1000, event_time_offset=1000).plot(norm='log')"
   ]
  },
  {
   "cell_type": "code",
   "execution_count": null,
   "id": "69",
   "metadata": {},
   "outputs": [],
   "source": [
    "da = wf.compute(DetectorTofData[SampleRun])\n",
    "da = da.transform_coords(('dspacing',), graph=scn.conversion.graph.tof.elastic('tof'),)\n",
    "ground_truth_peak_positions(da.hist(dspacing=dspacing, dim=da.dims).plot(), quartz_peaks_array())"
   ]
  },
  {
   "cell_type": "code",
   "execution_count": null,
   "id": "70",
   "metadata": {},
   "outputs": [],
   "source": [
    "da = da['bank1'].copy()\n",
    "da.masks.clear()\n",
    "da.bins.masks['too_far_from_center'] = ~da.bins.masks.pop('too_far_from_center')\n",
    "\n",
    "da.bins.concat().hist(two_theta=1000, event_time_offset=1000).plot(norm='log')"
   ]
  },
  {
   "cell_type": "markdown",
   "id": "71",
   "metadata": {},
   "source": [
    "### Known peaks workflow"
   ]
  },
  {
   "cell_type": "markdown",
   "id": "72",
   "metadata": {},
   "source": [
    "#### Mode 7"
   ]
  },
  {
   "cell_type": "code",
   "execution_count": null,
   "id": "73",
   "metadata": {},
   "outputs": [],
   "source": [
    "wf = BeerModMcStasWorkflowKnownPeaks()\n",
    "# The quartz_peak_array is very long, restrict it to the dspacing region of interest!\n",
    "wf[DHKLList] = quartz_peaks_array()[(dspacing[0] <= quartz_peaks_array()) & (quartz_peaks_array() <= dspacing[-1])]\n",
    "wf[Filename[SampleRun]] = mcstas_quartz(7)\n",
    "da = wf.compute(DetectorTofData[SampleRun])\n",
    "da = da.transform_coords(('dspacing',), graph=scn.conversion.graph.tof.elastic('tof'),)\n",
    "ground_truth_peak_positions(da.hist(dspacing=dspacing, dim=da.dims).plot(), quartz_peaks_array())"
   ]
  },
  {
   "cell_type": "markdown",
   "id": "74",
   "metadata": {},
   "source": [
    "#### Mode 8"
   ]
  },
  {
   "cell_type": "code",
   "execution_count": null,
   "id": "75",
   "metadata": {},
   "outputs": [],
   "source": [
    "wf = BeerModMcStasWorkflowKnownPeaks()\n",
    "# The quartz_peak_array is very long, restrict it to the dspacing region of interest!\n",
    "wf[DHKLList] = quartz_peaks_array()[(dspacing[0] <= quartz_peaks_array()) & (quartz_peaks_array() <= dspacing[-1])]\n",
    "wf[Filename[SampleRun]] = mcstas_quartz(8)\n",
    "da = wf.compute(DetectorTofData[SampleRun])\n",
    "da = da.transform_coords(('dspacing',), graph=scn.conversion.graph.tof.elastic('tof'),)\n",
    "ground_truth_peak_positions(da.hist(dspacing=dspacing, dim=da.dims).plot(), quartz_peaks_array())"
   ]
  },
  {
   "cell_type": "markdown",
   "id": "76",
   "metadata": {},
   "source": [
    "#### Mode 9"
   ]
  },
  {
   "cell_type": "code",
   "execution_count": null,
   "id": "77",
   "metadata": {},
   "outputs": [],
   "source": [
    "wf = BeerModMcStasWorkflowKnownPeaks()\n",
    "# The quartz_peak_array is very long, restrict it to the dspacing region of interest!\n",
    "wf[DHKLList] = quartz_peaks_array()[(dspacing[0] <= quartz_peaks_array()) & (quartz_peaks_array() <= dspacing[-1])]\n",
    "wf[Filename[SampleRun]] = mcstas_quartz(9)\n",
    "da = wf.compute(DetectorTofData[SampleRun])\n",
    "da = da.transform_coords(('dspacing',), graph=scn.conversion.graph.tof.elastic('tof'),)\n",
    "ground_truth_peak_positions(da.hist(dspacing=dspacing, dim=da.dims).plot(), quartz_peaks_array())"
   ]
  },
  {
   "cell_type": "markdown",
   "id": "78",
   "metadata": {},
   "source": [
    "#### Mode 10"
   ]
  },
  {
   "cell_type": "code",
   "execution_count": null,
   "id": "79",
   "metadata": {},
   "outputs": [],
   "source": [
    "wf = BeerModMcStasWorkflowKnownPeaks()\n",
    "# The quartz_peak_array is very long, restrict it to the dspacing region of interest!\n",
    "wf[DHKLList] = quartz_peaks_array()[(dspacing[0] <= quartz_peaks_array()) & (quartz_peaks_array() <= dspacing[-1])]\n",
    "wf[Filename[SampleRun]] = mcstas_quartz(10)\n",
    "da = wf.compute(DetectorTofData[SampleRun])\n",
    "da = da.transform_coords(('dspacing',), graph=scn.conversion.graph.tof.elastic('tof'),)\n",
    "ground_truth_peak_positions(da.hist(dspacing=dspacing, dim=da.dims).plot(), quartz_peaks_array())"
   ]
  },
  {
   "cell_type": "markdown",
   "id": "80",
   "metadata": {},
   "source": [
    "#### Mode 16"
   ]
  },
  {
   "cell_type": "code",
   "execution_count": null,
   "id": "81",
   "metadata": {},
   "outputs": [],
   "source": [
    "wf = BeerModMcStasWorkflowKnownPeaks()\n",
    "# The quartz_peak_array is very long, restrict it to the dspacing region of interest!\n",
    "wf[DHKLList] = quartz_peaks_array()[(dspacing[0] <= quartz_peaks_array()) & (quartz_peaks_array() <= dspacing[-1])]\n",
    "wf[Filename[SampleRun]] = mcstas_quartz(16)\n",
    "da = wf.compute(DetectorTofData[SampleRun])\n",
    "da = da.transform_coords(('dspacing',), graph=scn.conversion.graph.tof.elastic('tof'),)\n",
    "ground_truth_peak_positions(da.hist(dspacing=dspacing, dim=da.dims).plot(), quartz_peaks_array())"
   ]
  }
 ],
 "metadata": {
  "kernelspec": {
   "display_name": "Python 3 (ipykernel)",
   "language": "python",
   "name": "python3"
  },
  "language_info": {
   "codemirror_mode": {
    "name": "ipython",
    "version": 3
   },
   "file_extension": ".py",
   "mimetype": "text/x-python",
   "name": "python",
   "nbconvert_exporter": "python",
   "pygments_lexer": "ipython3",
   "version": "3.10.18"
  }
 },
 "nbformat": 4,
 "nbformat_minor": 5
}
