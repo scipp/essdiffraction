{
 "cells": [
  {
   "cell_type": "code",
   "execution_count": null,
   "id": "0",
   "metadata": {},
   "outputs": [],
   "source": [
    "%matplotlib ipympl"
   ]
  },
  {
   "cell_type": "markdown",
   "id": "1",
   "metadata": {},
   "source": [
    "# BEER McStas data reduction"
   ]
  },
  {
   "cell_type": "code",
   "execution_count": null,
   "id": "2",
   "metadata": {},
   "outputs": [],
   "source": [
    "import scipp as sc\n",
    "import scippneutron as scn\n",
    "\n",
    "from ess.beer import BeerMcStasWorkflow, BeerMcStasWorkflowKnownPeaks\n",
    "from ess.beer.data import mcstas_silicon_medium_resolution, mcstas_duplex, duplex_peaks_array, silicon_peaks_array\n",
    "from ess.reduce.nexus.types import Filename, SampleRun\n",
    "from ess.reduce.time_of_flight.types import DetectorTofData\n",
    "from ess.beer.types import *\n",
    "\n",
    "dspacing = sc.linspace('dspacing', 0.8, 2.2, 2000, unit='angstrom')"
   ]
  },
  {
   "cell_type": "code",
   "execution_count": null,
   "id": "3",
   "metadata": {},
   "outputs": [],
   "source": [
    "%%time\n",
    "wf = BeerMcStasWorkflowKnownPeaks()\n",
    "wf[DHKLList] = duplex_peaks_array()\n",
    "wf[Filename[SampleRun]] = mcstas_duplex(9)\n",
    "da = wf.compute(DetectorTofData[SampleRun])\n",
    "da.hist(dspacing=dspacing).plot()"
   ]
  },
  {
   "cell_type": "code",
   "execution_count": null,
   "id": "4",
   "metadata": {},
   "outputs": [],
   "source": [
    "%%time\n",
    "wf = BeerMcStasWorkflow()\n",
    "wf[Filename[SampleRun]] = mcstas_duplex(9)\n",
    "da = wf.compute(DetectorTofData[SampleRun])\n",
    "da = da.transform_coords(('dspacing',), graph=scn.conversion.graph.tof.elastic('tof'),)\n",
    "p = da.hist(dspacing=dspacing, dim=da.dims).plot()\n",
    "p.ax.vlines(duplex_peaks_array().values, 0, 20000, linestyle='--', color='black', lw=0.5, label='true $d_{hkl}$')\n",
    "p"
   ]
  },
  {
   "cell_type": "code",
   "execution_count": null,
   "id": "5",
   "metadata": {},
   "outputs": [],
   "source": [
    "%%time\n",
    "wf = BeerMcStasWorkflowKnownPeaks()\n",
    "wf[DHKLList] = silicon_peaks_array()\n",
    "wf[Filename[SampleRun]] = mcstas_silicon_medium_resolution()\n",
    "da = wf.compute(DetectorTofData[SampleRun])\n",
    "da.hist(dspacing=dspacing).plot()"
   ]
  },
  {
   "cell_type": "code",
   "execution_count": null,
   "id": "6",
   "metadata": {},
   "outputs": [],
   "source": [
    "%%time\n",
    "wf = BeerMcStasWorkflow()\n",
    "wf[Filename[SampleRun]] = mcstas_silicon_medium_resolution()\n",
    "da = wf.compute(DetectorTofData[SampleRun])\n",
    "da = da.transform_coords(('dspacing',), graph=scn.conversion.graph.tof.elastic('tof'),)\n",
    "p = da.hist(dspacing=dspacing, dim=da.dims).plot()\n",
    "p.ax.vlines(silicon_peaks_array().values, 0, 20000, linestyle='--', color='black', lw=0.5, label='true $d_{hkl}$')\n",
    "p"
   ]
  },
  {
   "cell_type": "code",
   "execution_count": null,
   "id": "7",
   "metadata": {},
   "outputs": [],
   "source": [
    "da['bank2'].bins.concat().hist(two_theta=1000, event_time_offset=1000).plot(norm='log')"
   ]
  },
  {
   "cell_type": "markdown",
   "id": "8",
   "metadata": {},
   "source": [
    "## Automatic peak finder and reduction for different chopper modes"
   ]
  },
  {
   "cell_type": "markdown",
   "id": "9",
   "metadata": {},
   "source": [
    "### Mode 7"
   ]
  },
  {
   "cell_type": "code",
   "execution_count": null,
   "id": "10",
   "metadata": {},
   "outputs": [],
   "source": [
    "wf = BeerMcStasWorkflow()\n",
    "wf[Filename[SampleRun]] = mcstas_duplex(7)\n",
    "wf.compute(DetectorData[SampleRun])['bank1'].hist(two_theta=1000, event_time_offset=1000).plot(norm='log')"
   ]
  },
  {
   "cell_type": "code",
   "execution_count": null,
   "id": "11",
   "metadata": {},
   "outputs": [],
   "source": [
    "%%time\n",
    "wf[MaxTimeOffset] = sc.scalar(6e-4, unit='s')\n",
    "wf[MinTimeToNextStreak] = sc.scalar(8e-4/10, unit='s')\n",
    "da = wf.compute(DetectorTofData[SampleRun])\n",
    "da = da.transform_coords(('dspacing',), graph=scn.conversion.graph.tof.elastic('tof'),)\n",
    "p = da.hist(dspacing=dspacing, dim=da.dims).plot()\n",
    "p.ax.vlines(duplex_peaks_array().values, 0, 20000, linestyle='--', color='black', lw=0.5, label='true $d_{hkl}$')\n",
    "p"
   ]
  },
  {
   "cell_type": "markdown",
   "id": "12",
   "metadata": {},
   "source": [
    "### Mode 8"
   ]
  },
  {
   "cell_type": "code",
   "execution_count": null,
   "id": "13",
   "metadata": {},
   "outputs": [],
   "source": [
    "wf = BeerMcStasWorkflow()\n",
    "wf[Filename[SampleRun]] = mcstas_duplex(8)\n",
    "wf.compute(DetectorData[SampleRun])['bank1'].hist(two_theta=1000, event_time_offset=1000).plot(norm='log')"
   ]
  },
  {
   "cell_type": "code",
   "execution_count": null,
   "id": "14",
   "metadata": {},
   "outputs": [],
   "source": [
    "wf[MaxTimeOffset] = sc.scalar(6e-4, unit='s')\n",
    "wf[MinTimeToNextStreak] = sc.scalar(8e-4/10, unit='s')\n",
    "da = wf.compute(DetectorTofData[SampleRun])\n",
    "da = da.transform_coords(('dspacing',), graph=scn.conversion.graph.tof.elastic('tof'),)\n",
    "p = da.hist(dspacing=dspacing, dim=da.dims).plot()\n",
    "p.ax.vlines(duplex_peaks_array().values, 0, 20000, linestyle='--', color='black', lw=0.5, label='true $d_{hkl}$')\n",
    "p"
   ]
  },
  {
   "cell_type": "markdown",
   "id": "15",
   "metadata": {},
   "source": [
    "### Mode 9"
   ]
  },
  {
   "cell_type": "code",
   "execution_count": null,
   "id": "16",
   "metadata": {},
   "outputs": [],
   "source": [
    "wf = BeerMcStasWorkflow()\n",
    "wf[Filename[SampleRun]] = mcstas_duplex(9)\n",
    "wf.compute(DetectorData[SampleRun])['bank1'].hist(two_theta=1000, event_time_offset=1000).plot(norm='log')"
   ]
  },
  {
   "cell_type": "code",
   "execution_count": null,
   "id": "17",
   "metadata": {},
   "outputs": [],
   "source": [
    "da = wf.compute(DetectorTofData[SampleRun])\n",
    "da = da.transform_coords(('dspacing',), graph=scn.conversion.graph.tof.elastic('tof'),)\n",
    "p = da.hist(dspacing=dspacing, dim=da.dims).plot()\n",
    "p.ax.vlines(duplex_peaks_array().values, 0, 20000, linestyle='--', color='black', lw=0.5, label='true $d_{hkl}$')\n",
    "p"
   ]
  },
  {
   "cell_type": "code",
   "execution_count": null,
   "id": "18",
   "metadata": {},
   "outputs": [],
   "source": [
    "da = da['bank2'].copy()\n",
    "da.masks.clear()\n",
    "da.bins.masks['too_far_from_center'] = ~da.bins.masks.pop('too_far_from_center')\n",
    "da.bins.masks['too_close_to_other'] = ~da.bins.masks.pop('too_close_to_other')\n",
    "\n",
    "da.bins.concat().hist(two_theta=1000, event_time_offset=1000).plot(norm='log')"
   ]
  },
  {
   "cell_type": "markdown",
   "id": "19",
   "metadata": {},
   "source": [
    "### Mode 10"
   ]
  },
  {
   "cell_type": "code",
   "execution_count": null,
   "id": "20",
   "metadata": {},
   "outputs": [],
   "source": [
    "wf = BeerMcStasWorkflow()\n",
    "wf[Filename[SampleRun]] = mcstas_duplex(10)\n",
    "wf.compute(DetectorData[SampleRun])['bank1'].hist(two_theta=1000, event_time_offset=1000).plot(norm='log')"
   ]
  },
  {
   "cell_type": "code",
   "execution_count": null,
   "id": "21",
   "metadata": {},
   "outputs": [],
   "source": [
    "wf[MaxTimeOffset] = sc.scalar(3e-4/2, unit='s')\n",
    "wf[MinTimeToNextStreak] = sc.scalar(8e-4/2, unit='s')\n",
    "da = wf.compute(DetectorTofData[SampleRun])\n",
    "da = da.transform_coords(('dspacing',), graph=scn.conversion.graph.tof.elastic('tof'),)\n",
    "p = da.hist(dspacing=dspacing, dim=da.dims).plot()\n",
    "p.ax.vlines(duplex_peaks_array().values, 0, 20000, linestyle='--', color='black', lw=0.5, label='true $d_{hkl}$')\n",
    "p"
   ]
  },
  {
   "cell_type": "code",
   "execution_count": null,
   "id": "22",
   "metadata": {},
   "outputs": [],
   "source": [
    "da = da['bank1'].copy()\n",
    "da.masks.clear()\n",
    "da.bins.masks['too_far_from_center'] = ~da.bins.masks.pop('too_far_from_center')\n",
    "da.bins.masks['too_close_to_other'] = ~da.bins.masks.pop('too_close_to_other')\n",
    "\n",
    "da.bins.concat().hist(two_theta=1000, event_time_offset=1000).plot(norm='log')"
   ]
  },
  {
   "cell_type": "markdown",
   "id": "23",
   "metadata": {},
   "source": [
    "### Mode 16"
   ]
  },
  {
   "cell_type": "code",
   "execution_count": null,
   "id": "24",
   "metadata": {},
   "outputs": [],
   "source": [
    "wf = BeerMcStasWorkflow()\n",
    "wf[Filename[SampleRun]] = mcstas_duplex(16)\n",
    "wf.compute(DetectorData[SampleRun])['bank1'].hist(two_theta=1000, event_time_offset=1000).plot(norm='log')"
   ]
  },
  {
   "cell_type": "code",
   "execution_count": null,
   "id": "25",
   "metadata": {},
   "outputs": [],
   "source": [
    "wf[MaxTimeOffset] = sc.scalar(3e-4/2, unit='s')\n",
    "wf[MinTimeToNextStreak] = sc.scalar(8e-4/2, unit='s')\n",
    "da = wf.compute(DetectorTofData[SampleRun])\n",
    "da = da.transform_coords(('dspacing',), graph=scn.conversion.graph.tof.elastic('tof'),)\n",
    "p = da.hist(dspacing=dspacing, dim=da.dims).plot()\n",
    "p.ax.vlines(duplex_peaks_array().values, 0, 20000, linestyle='--', color='black', lw=0.5, label='true $d_{hkl}$')\n",
    "p"
   ]
  },
  {
   "cell_type": "code",
   "execution_count": null,
   "id": "26",
   "metadata": {},
   "outputs": [],
   "source": [
    "da = da['bank1'].copy()\n",
    "da.masks.clear()\n",
    "da.bins.masks['too_far_from_center'] = ~da.bins.masks.pop('too_far_from_center')\n",
    "da.bins.masks['too_close_to_other'] = ~da.bins.masks.pop('too_close_to_other')\n",
    "\n",
    "da.bins.concat().hist(two_theta=1000, event_time_offset=1000).plot(norm='log')"
   ]
  },
  {
   "cell_type": "markdown",
   "id": "27",
   "metadata": {},
   "source": [
    "## Reuction with known peak workflow"
   ]
  },
  {
   "cell_type": "markdown",
   "id": "28",
   "metadata": {},
   "source": [
    "## Mode 7"
   ]
  },
  {
   "cell_type": "code",
   "execution_count": null,
   "id": "29",
   "metadata": {},
   "outputs": [],
   "source": [
    "wf = BeerMcStasWorkflowKnownPeaks()\n",
    "wf[DHKLList] = duplex_peaks_array()\n",
    "wf[Filename[SampleRun]] = mcstas_duplex(7)\n",
    "da = wf.compute(DetectorTofData[SampleRun])\n",
    "da.hist(dspacing=dspacing).plot()"
   ]
  },
  {
   "cell_type": "markdown",
   "id": "30",
   "metadata": {},
   "source": [
    "## Mode 8"
   ]
  },
  {
   "cell_type": "code",
   "execution_count": null,
   "id": "31",
   "metadata": {},
   "outputs": [],
   "source": [
    "wf = BeerMcStasWorkflowKnownPeaks()\n",
    "wf[DHKLList] = duplex_peaks_array()\n",
    "wf[Filename[SampleRun]] = mcstas_duplex(8)\n",
    "da = wf.compute(DetectorTofData[SampleRun])\n",
    "da.hist(dspacing=dspacing).plot()"
   ]
  },
  {
   "cell_type": "markdown",
   "id": "32",
   "metadata": {},
   "source": [
    "## Mode 9"
   ]
  },
  {
   "cell_type": "code",
   "execution_count": null,
   "id": "33",
   "metadata": {},
   "outputs": [],
   "source": [
    "wf = BeerMcStasWorkflowKnownPeaks()\n",
    "wf[DHKLList] = duplex_peaks_array()\n",
    "wf[Filename[SampleRun]] = mcstas_duplex(9)\n",
    "da = wf.compute(DetectorTofData[SampleRun])\n",
    "da.hist(dspacing=dspacing).plot()"
   ]
  },
  {
   "cell_type": "markdown",
   "id": "34",
   "metadata": {},
   "source": [
    "## Mode 10"
   ]
  },
  {
   "cell_type": "code",
   "execution_count": null,
   "id": "35",
   "metadata": {},
   "outputs": [],
   "source": [
    "wf = BeerMcStasWorkflowKnownPeaks()\n",
    "wf[DHKLList] = duplex_peaks_array()\n",
    "wf[Filename[SampleRun]] = mcstas_duplex(10)\n",
    "da = wf.compute(DetectorTofData[SampleRun])\n",
    "da.hist(dspacing=dspacing).plot()"
   ]
  },
  {
   "cell_type": "markdown",
   "id": "36",
   "metadata": {},
   "source": [
    "## Mode 16"
   ]
  },
  {
   "cell_type": "code",
   "execution_count": null,
   "id": "37",
   "metadata": {},
   "outputs": [],
   "source": [
    "wf = BeerMcStasWorkflowKnownPeaks()\n",
    "wf[DHKLList] = duplex_peaks_array()\n",
    "wf[Time0] = sc.scalar(0.5 * 17/360 /28, unit='s')\n",
    "wf[Filename[SampleRun]] = mcstas_duplex(16)\n",
    "da = wf.compute(DetectorTofData[SampleRun])\n",
    "da.hist(dspacing=dspacing).plot()"
   ]
  }
 ],
 "metadata": {
  "kernelspec": {
   "display_name": "Python 3 (ipykernel)",
   "language": "python",
   "name": "python3"
  },
  "language_info": {
   "codemirror_mode": {
    "name": "ipython",
    "version": 3
   },
   "file_extension": ".py",
   "mimetype": "text/x-python",
   "name": "python",
   "nbconvert_exporter": "python",
   "pygments_lexer": "ipython3",
   "version": "3.10.18"
  }
 },
 "nbformat": 4,
 "nbformat_minor": 5
}
