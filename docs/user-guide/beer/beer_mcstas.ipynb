{
 "cells": [
  {
   "cell_type": "code",
   "execution_count": null,
   "id": "0",
   "metadata": {},
   "outputs": [],
   "source": [
    "%matplotlib ipympl"
   ]
  },
  {
   "cell_type": "markdown",
   "id": "1",
   "metadata": {},
   "source": [
    "# BEER McStas data reduction"
   ]
  },
  {
   "cell_type": "code",
   "execution_count": null,
   "id": "2",
   "metadata": {},
   "outputs": [],
   "source": [
    "import scipp as sc\n",
    "\n",
    "from ess.beer import BeerMcStasWorkflow\n",
    "from ess.beer.data import mcstas_silicon_medium_resolution, mcstas_duplex_medium_resolution, duplex_peaks_array, silicon_peaks_array\n",
    "from ess.reduce.nexus.types import Filename, SampleRun\n",
    "from ess.reduce.time_of_flight.types import DetectorTofData"
   ]
  },
  {
   "cell_type": "code",
   "execution_count": null,
   "id": "3",
   "metadata": {},
   "outputs": [],
   "source": [
    "wf = BeerMcStasWorkflow()"
   ]
  },
  {
   "cell_type": "code",
   "execution_count": null,
   "id": "4",
   "metadata": {},
   "outputs": [],
   "source": [
    "wf[Filename[SampleRun]] = mcstas_duplex_medium_resolution()\n",
    "da = wf.compute(DetectorTofData[SampleRun])\n",
    "da.bins.coords['d'] = (sc.constants.h / sc.constants.m_n * da.bins.coords['tof'] / sc.sin(da.bins.coords['two_theta'] / 2) / da.bins.coords['L'] / 2).to(unit='angstrom')\n",
    "p = da.bins.concat().hist(d=2000).plot()\n",
    "p.ax.vlines(duplex_peaks_array().values, 0, 20000, linestyle='--', color='black', lw=0.5, label='true $d_{hkl}$')\n",
    "p"
   ]
  },
  {
   "cell_type": "code",
   "execution_count": null,
   "id": "5",
   "metadata": {},
   "outputs": [],
   "source": [
    "wf[Filename[SampleRun]] = mcstas_silicon_medium_resolution()\n",
    "da = wf.compute(DetectorTofData[SampleRun])\n",
    "da.bins.coords['d'] = (sc.constants.h / sc.constants.m_n * da.bins.coords['tof'] / sc.sin(da.bins.coords['two_theta'] / 2) / da.bins.coords['L'] / 2).to(unit='angstrom')\n",
    "p = da.bins.concat().hist(d=2000).plot()\n",
    "p.ax.vlines(silicon_peaks_array().values, 0, 20000, linestyle='--', color='black', lw=0.5, label='true $d_{hkl}$')\n",
    "p"
   ]
  },
  {
   "cell_type": "code",
   "execution_count": null,
   "id": "6",
   "metadata": {},
   "outputs": [],
   "source": [
    "da.bins.concat().hist(two_theta=1000, t=1000).plot(norm='log')"
   ]
  }
 ],
 "metadata": {
  "kernelspec": {
   "display_name": "Python 3 (ipykernel)",
   "language": "python",
   "name": "python3"
  },
  "language_info": {
   "codemirror_mode": {
    "name": "ipython",
    "version": 3
   },
   "file_extension": ".py",
   "mimetype": "text/x-python",
   "name": "python",
   "nbconvert_exporter": "python",
   "pygments_lexer": "ipython3",
   "version": "3.10.18"
  }
 },
 "nbformat": 4,
 "nbformat_minor": 5
}
