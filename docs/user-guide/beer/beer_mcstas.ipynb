{
 "cells": [
  {
   "cell_type": "code",
   "execution_count": null,
   "id": "0",
   "metadata": {},
   "outputs": [],
   "source": [
    "%matplotlib ipympl"
   ]
  },
  {
   "cell_type": "code",
   "execution_count": null,
   "id": "1",
   "metadata": {},
   "outputs": [],
   "source": [
    "import scipp as sc\n",
    "\n",
    "from ess.beer import BeerMcStasWorkflow\n",
    "from ess.beer.data import mcstas_silicon_medium_resolution, mcstas_duplex_medium_resolution\n",
    "from ess.reduce.nexus.types import Filename, SampleRun\n",
    "from ess.reduce.time_of_flight.types import DetectorTofData"
   ]
  },
  {
   "cell_type": "code",
   "execution_count": null,
   "id": "2",
   "metadata": {},
   "outputs": [],
   "source": [
    "wf = BeerMcStasWorkflow()"
   ]
  },
  {
   "cell_type": "code",
   "execution_count": null,
   "id": "3",
   "metadata": {},
   "outputs": [],
   "source": [
    "wf[Filename[SampleRun]] = mcstas_duplex_medium_resolution()\n",
    "da = wf.compute(DetectorTofData[SampleRun])\n",
    "da.bins.coords['d'] = (sc.constants.h / sc.constants.m_n * da.bins.coords['tof'] / da.bins.coords['sin_theta_L'] / 2).to(unit='angstrom')\n",
    "da.bins.concat().hist(d=2000).plot()"
   ]
  },
  {
   "cell_type": "code",
   "execution_count": null,
   "id": "4",
   "metadata": {},
   "outputs": [],
   "source": [
    "wf[Filename[SampleRun]] = mcstas_silicon_medium_resolution()\n",
    "da = wf.compute(DetectorTofData[SampleRun])\n",
    "da.bins.coords['d'] = (sc.constants.h / sc.constants.m_n * da.bins.coords['tof'] / da.bins.coords['sin_theta_L'] / 2).to(unit='angstrom')\n",
    "da.bins.concat().hist(d=2000).plot()"
   ]
  }
 ],
 "metadata": {
  "kernelspec": {
   "display_name": "Python 3 (ipykernel)",
   "language": "python",
   "name": "python3"
  },
  "language_info": {
   "codemirror_mode": {
    "name": "ipython",
    "version": 3
   },
   "file_extension": ".py",
   "mimetype": "text/x-python",
   "name": "python",
   "nbconvert_exporter": "python",
   "pygments_lexer": "ipython3",
   "version": "3.10.18"
  }
 },
 "nbformat": 4,
 "nbformat_minor": 5
}
