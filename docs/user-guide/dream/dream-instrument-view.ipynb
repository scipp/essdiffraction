{
 "cells": [
  {
   "cell_type": "markdown",
   "id": "0",
   "metadata": {},
   "source": [
    "# DREAM instrument view\n",
    "\n",
    "This notebook is a simple example of how to use the instrument view for the DREAM instrument.\n",
    "\n",
    "- The DREAM-specific instrument view is capable of slicing the data with a slider widget along a dimension (e.g. `tof`) by using the `dim` argument.\n",
    "- There are also checkboxes to hide/show the different elements that make up the DREAM detectors.\n",
    "\n",
    "We begin with relevant imports.\n",
    "We will be using tutorial data downloaded with `pooch`.\n",
    "If you get an error about a missing module `pooch`, you can install it with `!pip install pooch`:"
   ]
  },
  {
   "cell_type": "code",
   "execution_count": null,
   "id": "1",
   "metadata": {},
   "outputs": [],
   "source": [
    "import scipp as sc\n",
    "from ess import dream\n",
    "import ess.dream.data  # noqa: F401"
   ]
  },
  {
   "cell_type": "markdown",
   "id": "2",
   "metadata": {},
   "source": [
    "## Load the data\n",
    "\n",
    "We load a dataset from a Geant4 simulation (stored as a `.csv` file).\n",
    "In each detector bank, the data is organised by `wire`, `strip`, `module`, `segment`, and `counter`.\n",
    "The high resolution detector also has an additional `sector` dimension."
   ]
  },
  {
   "cell_type": "code",
   "execution_count": null,
   "id": "3",
   "metadata": {},
   "outputs": [],
   "source": [
    "dg = dream.io.load_geant4_csv(dream.data.get_path(\"data_dream0_new_hkl_Si_pwd.csv.zip\"))\n",
    "dg = dg[\"instrument\"]  # Extract the instrument data\n",
    "\n",
    "# Extract the events from nested data groups\n",
    "dg = sc.DataGroup({key: detector[\"events\"] for key, detector in dg.items()})\n",
    "dg"
   ]
  },
  {
   "cell_type": "code",
   "execution_count": null,
   "id": "4",
   "metadata": {
    "editable": true,
    "nbsphinx": "hidden",
    "slideshow": {
     "slide_type": ""
    },
    "tags": []
   },
   "outputs": [],
   "source": [
    "# Only plot half of the pixels to reduce html docs size\n",
    "dg = dg[\"counter\", 0]"
   ]
  },
  {
   "cell_type": "markdown",
   "id": "5",
   "metadata": {
    "editable": true,
    "slideshow": {
     "slide_type": ""
    },
    "tags": []
   },
   "source": [
    "## Full instrument view\n",
    "\n",
    "We first histogram the data along the time-of-flight (`tof`) dimension,\n",
    "making sure the same bins are used for all elements:"
   ]
  },
  {
   "cell_type": "code",
   "execution_count": null,
   "id": "6",
   "metadata": {
    "editable": true,
    "slideshow": {
     "slide_type": ""
    },
    "tags": []
   },
   "outputs": [],
   "source": [
    "tof_edges = sc.linspace(\"tof\", 1.0e7, 1.0e8, 51, unit=\"ns\", dtype=int)\n",
    "data = dg.hist(tof=tof_edges)"
   ]
  },
  {
   "cell_type": "markdown",
   "id": "7",
   "metadata": {
    "editable": true,
    "slideshow": {
     "slide_type": ""
    },
    "tags": []
   },
   "source": [
    "We now use the `instrument_view` function to show the 3D view of the instrument pixels,\n",
    "specifying that we wish to have a slider along the `tof` dimension:"
   ]
  },
  {
   "cell_type": "code",
   "execution_count": null,
   "id": "8",
   "metadata": {
    "editable": true,
    "slideshow": {
     "slide_type": ""
    },
    "tags": []
   },
   "outputs": [],
   "source": [
    "full_view = dream.instrument_view(data, dim=\"tof\")\n",
    "full_view"
   ]
  },
  {
   "cell_type": "code",
   "execution_count": null,
   "id": "9",
   "metadata": {
    "editable": true,
    "nbsphinx": "hidden",
    "slideshow": {
     "slide_type": ""
    },
    "tags": []
   },
   "outputs": [],
   "source": [
    "full_view[2].controls[\"tof\"][\"slider\"].value = 35"
   ]
  },
  {
   "cell_type": "markdown",
   "id": "10",
   "metadata": {
    "editable": true,
    "slideshow": {
     "slide_type": ""
    },
    "tags": []
   },
   "source": [
    "Note that it is possible to use any dimension for the slider instead of `tof`, such as `wavelength` (if present in the data).\n",
    "\n",
    "## Displaying individual detector elements\n",
    "\n",
    "It is also possible to view a single detector element, selecting e.g. `mantle` from the original data:"
   ]
  },
  {
   "cell_type": "code",
   "execution_count": null,
   "id": "11",
   "metadata": {
    "editable": true,
    "slideshow": {
     "slide_type": ""
    },
    "tags": []
   },
   "outputs": [],
   "source": [
    "mantle_view = dream.instrument_view(dg[\"mantle\"].hist(tof=50), dim=\"tof\")\n",
    "mantle_view"
   ]
  },
  {
   "cell_type": "code",
   "execution_count": null,
   "id": "12",
   "metadata": {
    "editable": true,
    "nbsphinx": "hidden",
    "slideshow": {
     "slide_type": ""
    },
    "tags": []
   },
   "outputs": [],
   "source": [
    "mantle_view[1].controls[\"tof\"][\"slider\"].value = 43"
   ]
  },
  {
   "cell_type": "markdown",
   "id": "13",
   "metadata": {},
   "source": [
    "The instrument view is designed to be flexible in terms of what it accepts as input.\n",
    "This means that you can easily inspect, for example, a single module by using the usual slicing notation for data arrays.\n",
    "\n",
    "Below, we display the first module in the backward end-cap detector:"
   ]
  },
  {
   "cell_type": "code",
   "execution_count": null,
   "id": "14",
   "metadata": {},
   "outputs": [],
   "source": [
    "dream.instrument_view(dg[\"endcap_backward\"][\"module\", 0].hist(tof=1))"
   ]
  }
 ],
 "metadata": {
  "kernelspec": {
   "display_name": "Python 3 (ipykernel)",
   "language": "python",
   "name": "python3"
  },
  "language_info": {
   "codemirror_mode": {
    "name": "ipython",
    "version": 3
   },
   "file_extension": ".py",
   "mimetype": "text/x-python",
   "name": "python",
   "nbconvert_exporter": "python",
   "pygments_lexer": "ipython3",
   "version": "3.10.14"
  }
 },
 "nbformat": 4,
 "nbformat_minor": 5
}
