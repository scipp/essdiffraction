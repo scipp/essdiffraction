{
 "cells": [
  {
   "cell_type": "markdown",
   "id": "f47beab6-47c9-4cfb-a70e-c00bc8daebef",
   "metadata": {},
   "source": [
    "# DREAM data reduction"
   ]
  },
  {
   "cell_type": "code",
   "execution_count": null,
   "id": "74b2df0c-6957-40c2-a48e-a4351547e87a",
   "metadata": {},
   "outputs": [],
   "source": [
    "import scipp as sc\n",
    "import scippneutron as scn\n",
    "import sciline\n",
    "from ess import dream, powder\n",
    "from ess.powder.types import *\n",
    "from ess.dream.io.geant4 import providers as geant4_providers"
   ]
  },
  {
   "cell_type": "markdown",
   "id": "1252feab-12d2-46ac-bf74-70b32344473d",
   "metadata": {},
   "source": [
    "## Define reduction parameters\n",
    "\n",
    "We define a dictionary containing the reduction parameters.\n",
    "The keys are types defined in [essdiffraction.types](../generated/modules/ess.diffraction.types.rst)."
   ]
  },
  {
   "cell_type": "code",
   "execution_count": null,
   "id": "502e77cc-0253-4e71-9d97-81ff560ef99d",
   "metadata": {},
   "outputs": [],
   "source": [
    "params = {\n",
    "    Filename[SampleRun]: dream.data.simulated_diamond_sample(),\n",
    "    Filename[VanadiumRun]: dream.data.simulated_vanadium_sample(),\n",
    "    Filename[EmptyCanRun]: dream.data.simulated_empty_can(),\n",
    "    NeXusDetectorName: \"mantle\",\n",
    "    # The upper bounds mode is not yet implemented.\n",
    "    UncertaintyBroadcastMode: UncertaintyBroadcastMode.drop,\n",
    "    # Edges for binning in d-spacing\n",
    "    DspacingBins: sc.linspace(\"dspacing\", 0.0, 2.3434, 201, unit=\"angstrom\"),\n",
    "    # Mask in time-of-flight to crop to valid range\n",
    "    TofMask: lambda x: (x < sc.scalar(0.0, unit=\"ns\"))\n",
    "    | (x > sc.scalar(86e6, unit=\"ns\")),\n",
    "    TwoThetaMask: None,\n",
    "    WavelengthMask: None,\n",
    "}\n",
    "\n",
    "# Not available in simulated data\n",
    "sample = sc.DataGroup(position=sc.vector([0.0, 0.0, 0.0], unit=\"mm\"))\n",
    "params[RawSample[SampleRun]] = sample\n",
    "params[RawSample[VanadiumRun]] = sample\n",
    "\n",
    "source = sc.DataGroup(position=sc.vector([-3.478, 0.0, -76550], unit=\"mm\"))\n",
    "params[RawSource[SampleRun]] = source\n",
    "params[RawSource[VanadiumRun]] = source\n",
    "\n",
    "charge = sc.scalar(1.0, unit=\"µAh\")\n",
    "params[AccumulatedProtonCharge[SampleRun]] = charge\n",
    "params[AccumulatedProtonCharge[VanadiumRun]] = charge"
   ]
  },
  {
   "cell_type": "markdown",
   "id": "21cb87f2-4ff7-436e-b603-cc8f60c73e7a",
   "metadata": {},
   "source": [
    "## Create pipeline using Sciline\n",
    "\n",
    "We use the `powder` and `geant4` providers to build our pipeline."
   ]
  },
  {
   "cell_type": "code",
   "execution_count": null,
   "id": "98e99f33-6f4b-4b60-acaf-added3c6e1b0",
   "metadata": {},
   "outputs": [],
   "source": [
    "providers = (\n",
    "    *geant4_providers,\n",
    "    *powder.providers,\n",
    ")\n",
    "\n",
    "pipeline = sciline.Pipeline(providers, params=params)\n",
    "pipeline = powder.with_pixel_mask_filenames(pipeline, [])"
   ]
  },
  {
   "cell_type": "markdown",
   "id": "21fb4492-e836-41d3-a2d4-9678df43b9f9",
   "metadata": {},
   "source": [
    "We can visualize the graph for computing the final normalized result for intensity as a function of d-spacing:"
   ]
  },
  {
   "cell_type": "code",
   "execution_count": null,
   "id": "93f2ba0d-f256-4b64-b8fa-42cd1081cc41",
   "metadata": {},
   "outputs": [],
   "source": [
    "pipeline.visualize(IofDspacing, graph_attr={\"rankdir\": \"LR\"})"
   ]
  },
  {
   "cell_type": "markdown",
   "id": "478f580e-273c-4a46-8dfc-9a2ed31b0cd3",
   "metadata": {},
   "source": [
    "We then call `compute()` to compute the result:"
   ]
  },
  {
   "cell_type": "code",
   "execution_count": null,
   "id": "6a17cf1d-0407-41dd-8a84-0975371ac70a",
   "metadata": {},
   "outputs": [],
   "source": [
    "result = pipeline.compute(IofDspacing)\n",
    "result"
   ]
  },
  {
   "cell_type": "code",
   "execution_count": null,
   "id": "527623d2-0eee-456d-a4dd-764df8618ee4",
   "metadata": {},
   "outputs": [],
   "source": [
    "dspacing_histogram = result.hist()\n",
    "dspacing_histogram.plot()"
   ]
  },
  {
   "cell_type": "markdown",
   "id": "39dc0ea3-b30d-4a88-878c-86cf0e8e76e9",
   "metadata": {},
   "source": [
    "We can now save the result to disk:"
   ]
  },
  {
   "cell_type": "code",
   "execution_count": null,
   "id": "f37eba41-6178-4bcb-bf3c-fa177e6112b0",
   "metadata": {},
   "outputs": [],
   "source": [
    "dspacing_histogram.coords[\"dspacing\"] = sc.midpoints(\n",
    "    dspacing_histogram.coords[\"dspacing\"]\n",
    ")\n",
    "scn.io.save_xye(\"dspacing.xye\", dspacing_histogram)"
   ]
  },
  {
   "cell_type": "markdown",
   "id": "0898265e-7edd-4093-9dfb-6e6b2f05c766",
   "metadata": {},
   "source": [
    "## Compute intermediate results\n",
    "\n",
    "For inspection and debugging purposes, we can also compute intermediate results.\n",
    "To avoid repeated computation (including costly loading of files), we can request multiple results at once, including the final result, if desired.\n",
    "For example:"
   ]
  },
  {
   "cell_type": "code",
   "execution_count": null,
   "id": "4bd5a7d5-581f-4d04-bf11-955e55646199",
   "metadata": {},
   "outputs": [],
   "source": [
    "intermediates = pipeline.compute(\n",
    "    (\n",
    "        DataWithScatteringCoordinates[SampleRun],\n",
    "        MaskedData[SampleRun],\n",
    "    )\n",
    ")\n",
    "\n",
    "intermediates[DataWithScatteringCoordinates[SampleRun]]"
   ]
  },
  {
   "cell_type": "code",
   "execution_count": null,
   "id": "185cb6ee-8e55-43d0-9505-ebe2761785ed",
   "metadata": {},
   "outputs": [],
   "source": [
    "intermediates[MaskedData[SampleRun]].bins.concat().hist(\n",
    "    two_theta=300, wavelength=300\n",
    ").plot(norm=\"log\")"
   ]
  },
  {
   "cell_type": "markdown",
   "id": "7f866ad4-5a0d-4c98-b5ab-a2436f97074d",
   "metadata": {},
   "source": [
    "## Grouping by scattering angle\n",
    "\n",
    "The above pipeline focuses the data by merging all instrument pixels to produce a 1d d-spacing curve.\n",
    "If instead we want to group into $2\\theta$ bins, we can alter the pipeline parameters by adding some binning in $2\\theta$:"
   ]
  },
  {
   "cell_type": "code",
   "execution_count": null,
   "id": "bc516311-1ab4-4eb7-9a0b-d83ff61e036b",
   "metadata": {},
   "outputs": [],
   "source": [
    "pipeline[TwoThetaBins] = sc.linspace(\n",
    "    dim=\"two_theta\", unit=\"rad\", start=0.8, stop=2.4, num=17\n",
    ")"
   ]
  },
  {
   "cell_type": "code",
   "execution_count": null,
   "id": "b19ab368-e0c4-4a03-ac20-61a442e8826e",
   "metadata": {},
   "outputs": [],
   "source": [
    "grouped_dspacing = pipeline.compute(IofDspacingTwoTheta)\n",
    "grouped_dspacing"
   ]
  },
  {
   "cell_type": "code",
   "execution_count": null,
   "id": "fc25ee9c-9395-481f-bd31-3ad139859686",
   "metadata": {},
   "outputs": [],
   "source": [
    "angle = sc.midpoints(grouped_dspacing.coords[\"two_theta\"])\n",
    "sc.plot(\n",
    "    {\n",
    "        f\"{angle[group].value:.3f} {angle[group].unit}\": grouped_dspacing[\n",
    "            \"two_theta\", group\n",
    "        ].hist()\n",
    "        for group in range(2, 6)\n",
    "    }\n",
    ")"
   ]
  },
  {
   "cell_type": "code",
   "execution_count": null,
   "id": "6e414419-ccf4-420b-899d-a1fa4a6ce4ca",
   "metadata": {},
   "outputs": [],
   "source": [
    "grouped_dspacing.hist().plot(norm=\"log\")"
   ]
  }
 ],
 "metadata": {
  "kernelspec": {
   "display_name": "Python 3 (ipykernel)",
   "language": "python",
   "name": "python3"
  },
  "language_info": {
   "codemirror_mode": {
    "name": "ipython",
    "version": 3
   },
   "file_extension": ".py",
   "mimetype": "text/x-python",
   "name": "python",
   "nbconvert_exporter": "python",
   "pygments_lexer": "ipython3",
   "version": "3.10.12"
  }
 },
 "nbformat": 4,
 "nbformat_minor": 5
}
