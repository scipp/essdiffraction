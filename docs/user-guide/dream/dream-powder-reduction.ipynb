{
 "cells": [
  {
   "cell_type": "markdown",
   "id": "0",
   "metadata": {},
   "source": [
    "# DREAM powder data reduction\n",
    "\n",
    "- Audience: Instrument users, beginners\n",
    "- Prerequisites: Basic knowledge of [Scipp](https://scipp.github.io/)\n",
    "\n",
    "This notebook demonstrates the basic powder data reduction workflow for DREAM in high-flux mode.\n",
    "The workflow\n",
    "1. converts the data to $d$-spacing,\n",
    "2. focuses into a single bin per $d$-spacing (i.e., removes dependency on voxel position),\n",
    "2. normalizes by a monitor histogram,\n",
    "3. normalizes by a vanadium measurement,\n",
    "4. and saves the results to a time-of-flight CIF file for use by [EasyDiffraction](https://easydiffraction.org/).\n",
    "\n",
    "Only the mantle detector of DREAM is used in this workflow for simplicity.\n",
    "See [DREAM advanced powder data reduction](./dream-advanced-powder-reduction.rst) for more options.\n",
    "\n",
    "This notebook uses data from a McStas + GEANT4 simulation but can be adapted to other data.\n",
    "The data is available through the ESSdiffraction package but accessing it requires the `pooch` package.\n",
    "If you get an error about a missing module `pooch`, you can install it with `!pip install pooch`:"
   ]
  },
  {
   "cell_type": "code",
   "execution_count": null,
   "id": "1",
   "metadata": {},
   "outputs": [],
   "source": [
    "import scipp as sc\n",
    "from ess import dream, powder\n",
    "import ess.dream.data  # noqa: F401\n",
    "from ess.powder.types import *"
   ]
  },
  {
   "cell_type": "markdown",
   "id": "2",
   "metadata": {},
   "source": [
    "## Create and configure the workflow\n",
    "\n",
    "We begin by creating the Dream (Geant4) workflow object which is a skeleton for reducing Dream data, with pre-configured steps."
   ]
  },
  {
   "cell_type": "code",
   "execution_count": null,
   "id": "3",
   "metadata": {},
   "outputs": [],
   "source": [
    "workflow = dream.DreamGeant4Workflow(run_norm=powder.RunNormalization.monitor_histogram)"
   ]
  },
  {
   "cell_type": "markdown",
   "id": "4",
   "metadata": {},
   "source": [
    "We then need to set the missing parameters which are specific to each experiment\n",
    "(the keys are types defined in [ess.powder.types](../../generated/modules/ess.powder.types.rst))."
   ]
  },
  {
   "cell_type": "code",
   "execution_count": null,
   "id": "5",
   "metadata": {},
   "outputs": [],
   "source": [
    "workflow[Filename[SampleRun]] = dream.data.simulated_diamond_sample()\n",
    "workflow[Filename[VanadiumRun]] = dream.data.simulated_vanadium_sample()\n",
    "workflow[Filename[BackgroundRun]] = dream.data.simulated_empty_can()\n",
    "workflow[CalibrationFilename] = None\n",
    "\n",
    "workflow[MonitorFilename[SampleRun]] = dream.data.simulated_monitor_diamond_sample()\n",
    "workflow[MonitorFilename[VanadiumRun]] = dream.data.simulated_monitor_vanadium_sample()\n",
    "workflow[MonitorFilename[BackgroundRun]] = dream.data.simulated_monitor_empty_can()\n",
    "workflow[CaveMonitorPosition] = sc.vector([0.0, 0.0, -4220.0], unit=\"mm\")\n",
    "\n",
    "workflow[dream.InstrumentConfiguration] = dream.InstrumentConfiguration.high_flux\n",
    "# Select a detector bank:\n",
    "workflow[NeXusDetectorName] = \"mantle\"\n",
    "# We drop uncertainties where they would otherwise lead to correlations:\n",
    "workflow[UncertaintyBroadcastMode] = UncertaintyBroadcastMode.drop\n",
    "# Edges for binning in d-spacing:\n",
    "workflow[DspacingBins] = sc.linspace(\"dspacing\", 0.3, 2.3434, 201, unit=\"angstrom\")\n",
    "\n",
    "# Do not mask any pixels / voxels:\n",
    "workflow = powder.with_pixel_mask_filenames(workflow, [])"
   ]
  },
  {
   "cell_type": "markdown",
   "id": "6",
   "metadata": {},
   "source": [
    "## Use the reduction workflow\n",
    "\n",
    "We then call [workflow.compute(target)](https://scipp.github.io/sciline/generated/classes/sciline.Pipeline.html#sciline.Pipeline.compute) to compute the result.\n",
    "`IofDspacing` is the normalized intensity as a function of $d$-spacing.\n",
    "`ReducedTofCIF` encode the same data but converted back to time-of-flight and ready to be written to a CIF file."
   ]
  },
  {
   "cell_type": "code",
   "execution_count": null,
   "id": "7",
   "metadata": {},
   "outputs": [],
   "source": [
    "results = workflow.compute([IofDspacing, ReducedTofCIF])\n",
    "intensity = results[IofDspacing]\n",
    "cif_data = results[ReducedTofCIF]"
   ]
  },
  {
   "cell_type": "markdown",
   "id": "8",
   "metadata": {},
   "source": [
    "The intensity is still binned data, so we need to histogram it before we can plot it:"
   ]
  },
  {
   "cell_type": "code",
   "execution_count": null,
   "id": "9",
   "metadata": {},
   "outputs": [],
   "source": [
    "histogram = intensity.hist()\n",
    "fig = histogram.plot(title=intensity.coords['detector'].value.capitalize())\n",
    "fig.ax.set_ylabel(f\"I(d) [{histogram.unit}]\")\n",
    "fig"
   ]
  },
  {
   "cell_type": "markdown",
   "id": "10",
   "metadata": {},
   "source": [
    "We can now save the result to disk:"
   ]
  },
  {
   "cell_type": "code",
   "execution_count": null,
   "id": "11",
   "metadata": {},
   "outputs": [],
   "source": [
    "cif_data.comment = \"\"\"This file was generated with the basic DREAM data reduction user guide\n",
    "in the documentation of ESSdiffraction.\n",
    "See https://scipp.github.io/essdiffraction/\n",
    "\"\"\"\n",
    "cif_data.save(\"reduced.cif\")"
   ]
  },
  {
   "cell_type": "markdown",
   "id": "12",
   "metadata": {},
   "source": [
    "## Visualize the workflow\n",
    "\n",
    "We can visualize the workflow as a graph.\n",
    "This can help us understand how the data was reduced."
   ]
  },
  {
   "cell_type": "code",
   "execution_count": null,
   "id": "13",
   "metadata": {},
   "outputs": [],
   "source": [
    "workflow.visualize(ReducedTofCIF, graph_attr={\"rankdir\": \"LR\"})"
   ]
  },
  {
   "cell_type": "markdown",
   "id": "14",
   "metadata": {},
   "source": [
    "The workflow is a [Sciline](https://scipp.github.io/sciline/) pipeline.\n",
    "See the documentation of Sciline for more information and how to modify and extend the workflow.\n",
    "\n",
    "Some comments about the workflow structure:\n",
    "\n",
    "- Everything up to `DetectorData` and `MonitorData` can be summarized as loading raw data.\n",
    "- The workflow contains a `GravityVector`. This is only used for defining a coordinate system, there is *no gravity correction*.\n",
    "- Everything after `IofDspacing` deals with writing the output to CIF. If you want to customize the file, you may insert different parameters for the inputs to `ReducedTofCIF`.\n",
    "\n",
    "---\n",
    "\n",
    "Next, consider reading [DREAM advanced powder data reduction](./dream-advanced-powder-reduction.rst) guide which demonstrates some builtin options for customizing the workflow and how to compute alternative results."
   ]
  }
 ],
 "metadata": {
  "kernelspec": {
   "display_name": "Python 3 (ipykernel)",
   "language": "python",
   "name": "python3"
  },
  "language_info": {
   "codemirror_mode": {
    "name": "ipython",
    "version": 3
   },
   "file_extension": ".py",
   "mimetype": "text/x-python",
   "name": "python",
   "nbconvert_exporter": "python",
   "pygments_lexer": "ipython3",
   "version": "3.10.14"
  }
 },
 "nbformat": 4,
 "nbformat_minor": 5
}
