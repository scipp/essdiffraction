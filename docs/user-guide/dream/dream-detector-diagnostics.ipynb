{
 "cells": [
  {
   "cell_type": "markdown",
   "id": "0",
   "metadata": {},
   "source": [
    "# DREAM Detector Diagnostics\n",
    "\n",
    "This page is primarily intended for instrument scientists and other experts.\n",
    "\n",
    "ESSdiffraction has some tools for inspecting the DREAM detector based on recorded event data.\n",
    "This notebook gives an overview of the available tools.\n",
    "\n",
    "## Voxel Viewer\n",
    "\n",
    "The [FlatVoxelViewer](../../generated/modules/ess.dream.diagnostics.FlatVoxelViewer.rst) is an interactive visualization for inspecting individual voxels.\n",
    "It shows a 2D histogram of recorded events.\n",
    "The image axes correspond to a chosen pair of logical dimensions combined with all other dimensions.\n",
    "Each bin in the image corresponds to exactly one detector voxel.\n",
    "\n",
    "Tick marks indicate the values of the chosen dimensions.\n",
    "E.g., all pixels between module=2 and module=3 tick marks belong to module 2."
   ]
  },
  {
   "cell_type": "code",
   "execution_count": null,
   "id": "1",
   "metadata": {},
   "outputs": [],
   "source": [
    "import scipp as sc\n",
    "\n",
    "from ess import dream\n",
    "from ess.dream.data import simulated_diamond_sample\n",
    "from ess.dream.diagnostics import FlatVoxelViewer"
   ]
  },
  {
   "cell_type": "code",
   "execution_count": null,
   "id": "2",
   "metadata": {},
   "outputs": [],
   "source": [
    "%matplotlib widget"
   ]
  },
  {
   "cell_type": "markdown",
   "id": "3",
   "metadata": {},
   "source": [
    "Load simulated test data and compute histograms:"
   ]
  },
  {
   "cell_type": "code",
   "execution_count": null,
   "id": "4",
   "metadata": {},
   "outputs": [],
   "source": [
    "raw = dream.io.load_geant4_csv(simulated_diamond_sample())\n",
    "dg = sc.DataGroup({\n",
    "    k: v['events'].hist()\n",
    "    for k, v in raw['instrument'].items()\n",
    "})"
   ]
  },
  {
   "cell_type": "markdown",
   "id": "5",
   "metadata": {},
   "source": [
    "Display 2D view:"
   ]
  },
  {
   "cell_type": "code",
   "execution_count": null,
   "id": "6",
   "metadata": {},
   "outputs": [],
   "source": [
    "FlatVoxelViewer(dg)"
   ]
  }
 ],
 "metadata": {
  "kernelspec": {
   "display_name": "Python 3 (ipykernel)",
   "language": "python",
   "name": "python3"
  },
  "language_info": {
   "codemirror_mode": {
    "name": "ipython",
    "version": 3
   },
   "file_extension": ".py",
   "mimetype": "text/x-python",
   "name": "python",
   "nbconvert_exporter": "python",
   "pygments_lexer": "ipython3",
   "version": "3.10.15"
  }
 },
 "nbformat": 4,
 "nbformat_minor": 5
}
