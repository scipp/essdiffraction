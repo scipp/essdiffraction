{
 "cells": [
  {
   "cell_type": "markdown",
   "id": "2dd2b714-d216-4572-96ca-f68b8935ce36",
   "metadata": {},
   "source": [
    "# DREAM Detector Diagnostics\n",
    "\n",
    "This page is priomarily intended for instrument scientists and other experts.\n",
    "\n",
    "ESSdiffraction has some tools for inspecting the DREAM detector based on recorded event data.\n",
    "This notebook gives an overview of the available tools.\n",
    "\n",
    "## Voxel Viewer\n",
    "\n",
    "The `FlatVoxelViewer` is an interactive visualization for inspecting individual voxels.\n",
    "It shows a 2D histogram of recorded events.\n",
    "The image axes correspond to a chosen pair of logical dimensions combined with all other dimensions.\n",
    "Each pixel in the image corresponds to exactly one detector voxel.\n",
    "\n",
    "Tick marks indicate the values of the chosen dimensions.\n",
    "E.g., all pixels between module=2 and module=3 tick marks belong to module 2."
   ]
  },
  {
   "cell_type": "code",
   "execution_count": null,
   "id": "initial_id",
   "metadata": {},
   "outputs": [],
   "source": [
    "import scipp as sc\n",
    "\n",
    "from ess import dream\n",
    "from ess.dream.data import simulated_diamond_sample\n",
    "from ess.dream.diagnostics import FlatVoxelViewer"
   ]
  },
  {
   "cell_type": "code",
   "execution_count": null,
   "id": "05118d66-9c67-486e-9312-6518ef6308f1",
   "metadata": {},
   "outputs": [],
   "source": [
    "%matplotlib widget"
   ]
  },
  {
   "cell_type": "markdown",
   "id": "10ea2f93-fd77-4b61-a585-ccdb913a0029",
   "metadata": {},
   "source": [
    "Load simulated test data and compute histograms:"
   ]
  },
  {
   "cell_type": "code",
   "execution_count": null,
   "id": "9f630b3a-f9f0-48ab-846b-19cdeb90f296",
   "metadata": {},
   "outputs": [],
   "source": [
    "raw = dream.io.load_geant4_csv(simulated_diamond_sample())\n",
    "dg = sc.DataGroup({\n",
    "    k: v['events'].hist()\n",
    "    for k, v in raw['instrument'].items()\n",
    "})"
   ]
  },
  {
   "cell_type": "markdown",
   "id": "7572f84b-e5e3-4787-9fdd-8858df0b86cd",
   "metadata": {},
   "source": [
    "Display 2D view:"
   ]
  },
  {
   "cell_type": "code",
   "execution_count": null,
   "id": "820d6a4e28952685",
   "metadata": {},
   "outputs": [],
   "source": [
    "FlatVoxelViewer(dg)"
   ]
  }
 ],
 "metadata": {
  "kernelspec": {
   "display_name": "Python 3 (ipykernel)",
   "language": "python",
   "name": "python3"
  },
  "language_info": {
   "codemirror_mode": {
    "name": "ipython",
    "version": 3
   },
   "file_extension": ".py",
   "mimetype": "text/x-python",
   "name": "python",
   "nbconvert_exporter": "python",
   "pygments_lexer": "ipython3",
   "version": "3.10.15"
  }
 },
 "nbformat": 4,
 "nbformat_minor": 5
}
