{
 "cells": [
  {
   "cell_type": "markdown",
   "id": "0",
   "metadata": {},
   "source": [
    "# Workflow widgets example\n",
    "\n",
    "This notebook illustrates how we can use ESSreduce’s [workflow widgets](https://scipp.github.io/essreduce/user-guide/widget.html) to generate a graphical interface for running the [DREAM GEANT4 workflow](./dream-data-reduction.rst).\n",
    "\n",
    "## Initializing the GUI\n",
    "\n",
    "It is as simple as importing the dream submodule and generating a GUI using `workflow_widget` (the workflow automatically registers itself to a library of workflows when imported)."
   ]
  },
  {
   "cell_type": "code",
   "execution_count": null,
   "id": "1",
   "metadata": {},
   "outputs": [],
   "source": [
    "# Import dream submodule to register workflow\n",
    "from ess import dream\n",
    "from ess.reduce import ui\n",
    "\n",
    "# Prepare a container for accessing the results computed by the GUI\n",
    "results = {}\n",
    "\n",
    "# Initialize the GUI widget\n",
    "widget = ui.workflow_widget(result_registry=results)\n",
    "widget"
   ]
  },
  {
   "cell_type": "code",
   "execution_count": null,
   "id": "2",
   "metadata": {
    "editable": true,
    "nbsphinx": "hidden",
    "slideshow": {
     "slide_type": ""
    },
    "tags": []
   },
   "outputs": [],
   "source": [
    "from ess.powder.types import DspacingBins, Filename, SampleRun, TimeOfFlightLookupTableFilename, VanadiumRun\n",
    "import ess.dream.data  # noqa: F401\n",
    "\n",
    "select = widget.children[0].children[0]\n",
    "keys, values = zip(*select.options, strict=True)\n",
    "ind = keys.index(\"DreamGeant4ProtonChargeWorkflow\")\n",
    "select.value = values[ind]\n",
    "# Select IofDspacing output\n",
    "wfw = widget.children[1].children[0]\n",
    "outputs = wfw.output_selection_box.typical_outputs_widget\n",
    "keys, values = zip(*outputs.options, strict=True)\n",
    "ind = keys.index(\"IofTof\")\n",
    "outputs.value = (values[ind],)\n",
    "# Refresh parameters\n",
    "pbox = wfw.parameter_box\n",
    "pbox.parameter_refresh_button.click()\n",
    "# Set parameters\n",
    "pbox._input_widgets[Filename[SampleRun]].children[0].value = dream.data.simulated_diamond_sample()\n",
    "pbox._input_widgets[Filename[VanadiumRun]].children[0].value = dream.data.simulated_vanadium_sample()\n",
    "pbox._input_widgets[TimeOfFlightLookupTableFilename].children[0].value = dream.data.tof_lookup_table_high_flux()\n",
    "pbox._input_widgets[DspacingBins].fields[\"stop\"].value = 2.3434\n",
    "# Run the workflow\n",
    "rbox = wfw.result_box\n",
    "rbox.run_button.click()"
   ]
  },
  {
   "cell_type": "markdown",
   "id": "3",
   "metadata": {
    "editable": true,
    "slideshow": {
     "slide_type": ""
    },
    "tags": []
   },
   "source": [
    "## Accessing the results\n",
    "\n",
    "We can now access the computed result in the `results` dictionary:"
   ]
  },
  {
   "cell_type": "code",
   "execution_count": null,
   "id": "4",
   "metadata": {},
   "outputs": [],
   "source": [
    "results"
   ]
  },
  {
   "cell_type": "markdown",
   "id": "5",
   "metadata": {},
   "source": [
    "The result can be plotted using"
   ]
  },
  {
   "cell_type": "code",
   "execution_count": null,
   "id": "6",
   "metadata": {},
   "outputs": [],
   "source": [
    "(da,) = results.values()\n",
    "da.hist(tof=200).plot()"
   ]
  }
 ],
 "metadata": {
  "kernelspec": {
   "display_name": "Python 3 (ipykernel)",
   "language": "python",
   "name": "python3"
  },
  "language_info": {
   "codemirror_mode": {
    "name": "ipython",
    "version": 3
   },
   "file_extension": ".py",
   "mimetype": "text/x-python",
   "name": "python",
   "nbconvert_exporter": "python",
   "pygments_lexer": "ipython3"
  }
 },
 "nbformat": 4,
 "nbformat_minor": 5
}
