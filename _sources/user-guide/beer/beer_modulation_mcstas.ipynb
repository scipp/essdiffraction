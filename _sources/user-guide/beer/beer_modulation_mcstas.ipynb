{
 "cells": [
  {
   "cell_type": "code",
   "execution_count": null,
   "id": "0",
   "metadata": {},
   "outputs": [],
   "source": [
    "%matplotlib ipympl"
   ]
  },
  {
   "cell_type": "markdown",
   "id": "1",
   "metadata": {},
   "source": [
    "# BEER (modulation) McStas data reduction"
   ]
  },
  {
   "cell_type": "code",
   "execution_count": null,
   "id": "2",
   "metadata": {},
   "outputs": [],
   "source": [
    "import scipp as sc\n",
    "import scippneutron as scn\n",
    "\n",
    "from ess.beer import BeerModMcStasWorkflow, BeerModMcStasWorkflowKnownPeaks\n",
    "from ess.beer.data import mcstas_silicon_medium_resolution, mcstas_duplex, duplex_peaks_array, silicon_peaks_array\n",
    "from ess.reduce.nexus.types import Filename, SampleRun\n",
    "from ess.reduce.time_of_flight.types import DetectorTofData\n",
    "from ess.beer.types import *\n",
    "\n",
    "# Default bin edges for our d_hkl histograms\n",
    "dspacing = sc.linspace('dspacing', 0.8, 2.2, 2000, unit='angstrom')\n",
    "\n",
    "def ground_truth_peak_positions(p, arr):\n",
    "    'Helper to display the true peak positions for comparison'\n",
    "    p.ax.vlines(arr.values, 0, 20000, linestyle='--', color='black', lw=0.5, label='true $d_{hkl}$')\n",
    "    return p"
   ]
  },
  {
   "cell_type": "markdown",
   "id": "3",
   "metadata": {},
   "source": [
    "## Beam modulation mode\n",
    "\n",
    "In the \"modulation mode\" the BEER instrument maximizes signal intensity while retaining wavelength resolution by utilizing choppers to create multiple pulses, each with well defined wavelenth, that reach the sample simultaneously.\n",
    "The pulses can be distinguished in the detector data under the assumption that the peaks in $d_{hkl}$ are sufficiently well separated from each other.\n",
    "\n",
    "\n",
    "### Data reduction in modulation mode\n",
    "To read more about how this works, read the Beer modulation mode paper [{cite}][ROUIJAA20187].\n",
    "\n",
    "Associating each event to the $d_{hkl}$ of the scattering event can be done using two different methods.\n",
    "Which method can be used depends on if we have good prior estimates of the peak positions or not.\n",
    "\n",
    "#### 1. With prior peak position estimates\n",
    "\n",
    "Given a list of peak positions, and the geometry of the instrument/chopper system, we can figure out what regions of the plane ($2\\theta$, $t$) are going to be covered by events that were scattered from each particular peak (here $2\\theta$ is the scattering angle and $t$ is the \"time-of-arrival\" in the detector).\n",
    "\n",
    "From this we can associate each event with the $d_{hkl}$ peak it scattered from, and using the relationship\n",
    "\n",
    "$$\n",
    "\\frac{\\tau}{L} = \\frac{m_n}{h} d_{hkl} \\sin(\\theta)\n",
    "$$\n",
    "\n",
    "$\\tau$ (\"time-of-flight\") can be estimated. From the time of flight a new $d_{hkl}$ estimate can be computed for each event.\n",
    "\n",
    "\n",
    "#### 2. Without prior peak position estimates\n",
    "\n",
    "Without prior peak position estimates we first need to cluster the events so that each cluster contains events that were scattered from the same $d_{hkl}$ peak *and* were produced in the same modulation pulse.\n",
    "\n",
    "Within such a cluster \n",
    "\n",
    "$$\n",
    "\\frac{\\tau}{L} = \\frac{m_n}{h} d_{hkl} \\sin(\\theta)\n",
    "$$\n",
    "\n",
    "$$\n",
    "\\iff\n",
    "\\frac{t}{L} =  \\frac{t_0}{L} + \\frac{m_n}{h} d_{hkl} \\sin(\\theta)\n",
    "$$\n",
    "\n",
    "the time of arrival $t$ is an affine function of $\\sin(\\theta)$, and $t_0 := t - \\tau$ (the origin time of the modulation pulse) can be found by linear regression within the cluster.\n",
    "Once the origin time of each modulation pulse is known time-of-flight can be estimated and $d_{hkl}$ computed for each event as usual.\n",
    "\n",
    "### Difference between modulation modes\n",
    "\n",
    "There are different modulation modes depending on the desired trade off between resolution and intensity.\n",
    "Below is a table describing the available modes.\n",
    "\n",
    "<table style=\"border-collapse: collapse; border: 1px solid #aaa; font-family: Arial, sans-serif; font-size: 14px;\">\n",
    "  <thead>\n",
    "    <tr style=\"background-color: #e6e6e6; border: 1px solid #aaa;\">\n",
    "      <th colspan=\"3\" style=\"text-align: left; padding: 6px; border: 1px solid #aaa;\">\n",
    "        Diffraction, modulation\n",
    "      </th>\n",
    "    </tr>\n",
    "    <tr style=\"border: 1px solid #aaa;\">\n",
    "      <th style=\"text-align: left; padding: 6px; border: 1px solid #aaa; width: 60px;\"> </th>\n",
    "      <th style=\"text-align: left; padding: 6px; border: 1px solid #aaa;\">Description</th>\n",
    "      <th style=\"text-align: left; padding: 6px; border: 1px solid #aaa;\">Application</th>\n",
    "    </tr>\n",
    "  </thead>\n",
    "  <tbody>\n",
    "    <tr>\n",
    "      <td style=\"text-align: left; padding: 6px; border: 1px solid #aaa;\">M0</td>\n",
    "      <td style=\"text-align: left; padding: 6px; border: 1px solid #aaa;\">Maximum intensity, modulation</td>\n",
    "      <td style=\"text-align: left; padding: 6px; border: 1px solid #aaa;\">diffraction, max. slit</td>\n",
    "    </tr>\n",
    "    <tr>\n",
    "      <td style=\"text-align: left; padding: 6px; border: 1px solid #aaa;\">M1</td>\n",
    "      <td style=\"text-align: left; padding: 6px; border: 1px solid #aaa;\">High flux, modulation</td>\n",
    "      <td style=\"text-align: left; padding: 6px; border: 1px solid #aaa;\">strain scanning</td>\n",
    "    </tr>\n",
    "    <tr>\n",
    "      <td style=\"text-align: left; padding: 6px; border: 1px solid #aaa;\">M2</td>\n",
    "      <td style=\"text-align: left; padding: 6px; border: 1px solid #aaa;\">Medium resolution, modulation</td>\n",
    "      <td style=\"text-align: left; padding: 6px; border: 1px solid #aaa;\">strain scanning</td>\n",
    "    </tr>\n",
    "    <tr>\n",
    "      <td style=\"text-align: left; padding: 6px; border: 1px solid #aaa;\">M3</td>\n",
    "      <td style=\"text-align: left; padding: 6px; border: 1px solid #aaa;\">High resolution, modulation</td>\n",
    "      <td style=\"text-align: left; padding: 6px; border: 1px solid #aaa;\">strain scanning</td>\n",
    "    </tr>\n",
    "  </tbody>\n",
    "</table>\n",
    "\n"
   ]
  },
  {
   "cell_type": "markdown",
   "id": "4",
   "metadata": {},
   "source": [
    "In the rest of the notebook you will find examples of simulated data for a few different samples measured in the different modulation modes.\n",
    "\n",
    "The examples begin by displaying what the intensity distribution in the detector looked like in the experiment.\n",
    "Then they show the resulting $d_{hkl}$ histograms, using the two different methods described above.\n",
    "Lastly is a diagram that shows what fraction of the data was excluded because it could not be associated with a unique modulation pulse time.\n",
    "The excluded data figure is only shown for one of the reduction methods, to keep the notebook from getting too long, but both methods might exclude data in situations such as when nearby peaks are overlapping. "
   ]
  },
  {
   "cell_type": "markdown",
   "id": "5",
   "metadata": {},
   "source": [
    "## Silicon sample (M2)"
   ]
  },
  {
   "cell_type": "markdown",
   "id": "6",
   "metadata": {},
   "source": [
    "### Intensity distribution in detector"
   ]
  },
  {
   "cell_type": "code",
   "execution_count": null,
   "id": "7",
   "metadata": {},
   "outputs": [],
   "source": [
    "wf = BeerModMcStasWorkflowKnownPeaks()\n",
    "wf[Filename[SampleRun]] = mcstas_silicon_medium_resolution()\n",
    "wf.compute(DetectorData[SampleRun])['bank1'].hist(two_theta=1000, event_time_offset=1000).plot(norm='log')"
   ]
  },
  {
   "cell_type": "markdown",
   "id": "8",
   "metadata": {},
   "source": [
    "### Known peaks workflow"
   ]
  },
  {
   "cell_type": "code",
   "execution_count": null,
   "id": "9",
   "metadata": {},
   "outputs": [],
   "source": [
    "wf[DHKLList] = silicon_peaks_array()\n",
    "da = wf.compute(DetectorTofData[SampleRun])\n",
    "da = da.transform_coords(('dspacing',), graph=scn.conversion.graph.tof.elastic('tof'),)\n",
    "ground_truth_peak_positions(da.hist(dspacing=dspacing, dim=da.dims).plot(), silicon_peaks_array())"
   ]
  },
  {
   "cell_type": "markdown",
   "id": "10",
   "metadata": {},
   "source": [
    "### Automatic peak finder workflow"
   ]
  },
  {
   "cell_type": "code",
   "execution_count": null,
   "id": "11",
   "metadata": {},
   "outputs": [],
   "source": [
    "wf = BeerModMcStasWorkflow()\n",
    "wf[Filename[SampleRun]] = mcstas_silicon_medium_resolution()\n",
    "da = wf.compute(DetectorTofData[SampleRun])\n",
    "da = da.transform_coords(('dspacing',), graph=scn.conversion.graph.tof.elastic('tof'),)\n",
    "ground_truth_peak_positions(da.hist(dspacing=dspacing, dim=da.dims).plot(), silicon_peaks_array())"
   ]
  },
  {
   "cell_type": "markdown",
   "id": "12",
   "metadata": {},
   "source": [
    "#### Data that was excluded because tof could not be computed\n",
    "\n",
    "The most common reason this happens is overlap between nearby peaks."
   ]
  },
  {
   "cell_type": "code",
   "execution_count": null,
   "id": "13",
   "metadata": {},
   "outputs": [],
   "source": [
    "da = da['bank2'].copy()\n",
    "da.masks.clear()\n",
    "da.bins.masks['too_far_from_center'] = ~da.bins.masks.pop('too_far_from_center')\n",
    "\n",
    "da.bins.concat().hist(two_theta=1000, event_time_offset=1000).plot(norm='log')"
   ]
  },
  {
   "cell_type": "markdown",
   "id": "14",
   "metadata": {},
   "source": [
    "## Duplex sample (M1)"
   ]
  },
  {
   "cell_type": "markdown",
   "id": "15",
   "metadata": {},
   "source": [
    "### Intensity distribution in detector"
   ]
  },
  {
   "cell_type": "code",
   "execution_count": null,
   "id": "16",
   "metadata": {},
   "outputs": [],
   "source": [
    "wf = BeerModMcStasWorkflowKnownPeaks()\n",
    "wf[Filename[SampleRun]] = mcstas_duplex(8)\n",
    "wf.compute(DetectorData[SampleRun])['bank1'].hist(two_theta=1000, event_time_offset=1000).plot(norm='log')"
   ]
  },
  {
   "cell_type": "markdown",
   "id": "17",
   "metadata": {},
   "source": [
    "### Known peaks workflow"
   ]
  },
  {
   "cell_type": "code",
   "execution_count": null,
   "id": "18",
   "metadata": {},
   "outputs": [],
   "source": [
    "wf[DHKLList] = duplex_peaks_array()\n",
    "da = wf.compute(DetectorTofData[SampleRun])\n",
    "da = da.transform_coords(('dspacing',), graph=scn.conversion.graph.tof.elastic('tof'),)\n",
    "ground_truth_peak_positions(da.hist(dspacing=dspacing, dim=da.dims).plot(), duplex_peaks_array())"
   ]
  },
  {
   "cell_type": "markdown",
   "id": "19",
   "metadata": {},
   "source": [
    "### Automatic peak finder workflow"
   ]
  },
  {
   "cell_type": "code",
   "execution_count": null,
   "id": "20",
   "metadata": {},
   "outputs": [],
   "source": [
    "wf = BeerModMcStasWorkflow()\n",
    "wf[Filename[SampleRun]] = mcstas_duplex(8)\n",
    "da = wf.compute(DetectorTofData[SampleRun])\n",
    "da = da.transform_coords(('dspacing',), graph=scn.conversion.graph.tof.elastic('tof'),)\n",
    "ground_truth_peak_positions(da.hist(dspacing=dspacing, dim=da.dims).plot(), duplex_peaks_array())"
   ]
  },
  {
   "cell_type": "markdown",
   "id": "21",
   "metadata": {},
   "source": [
    "#### Data that was excluded because tof could not be computed\n",
    "\n",
    "The most common reason this happens is overlap between nearby peaks."
   ]
  },
  {
   "cell_type": "code",
   "execution_count": null,
   "id": "22",
   "metadata": {},
   "outputs": [],
   "source": [
    "da = da['bank2'].copy()\n",
    "da.masks.clear()\n",
    "da.bins.masks['too_far_from_center'] = ~da.bins.masks.pop('too_far_from_center')\n",
    "\n",
    "da.bins.concat().hist(two_theta=1000, event_time_offset=1000).plot(norm='log')"
   ]
  },
  {
   "cell_type": "markdown",
   "id": "23",
   "metadata": {},
   "source": [
    "## Duplex sample (M2)"
   ]
  },
  {
   "cell_type": "markdown",
   "id": "24",
   "metadata": {},
   "source": [
    "### Intensity distribution in detector"
   ]
  },
  {
   "cell_type": "code",
   "execution_count": null,
   "id": "25",
   "metadata": {},
   "outputs": [],
   "source": [
    "wf = BeerModMcStasWorkflowKnownPeaks()\n",
    "wf[Filename[SampleRun]] = mcstas_duplex(9)\n",
    "wf.compute(DetectorData[SampleRun])['bank1'].hist(two_theta=1000, event_time_offset=1000).plot(norm='log')"
   ]
  },
  {
   "cell_type": "markdown",
   "id": "26",
   "metadata": {},
   "source": [
    "### Known peaks workflow"
   ]
  },
  {
   "cell_type": "code",
   "execution_count": null,
   "id": "27",
   "metadata": {},
   "outputs": [],
   "source": [
    "wf[DHKLList] = duplex_peaks_array()\n",
    "da = wf.compute(DetectorTofData[SampleRun])\n",
    "da = da.transform_coords(('dspacing',), graph=scn.conversion.graph.tof.elastic('tof'),)\n",
    "ground_truth_peak_positions(da.hist(dspacing=dspacing, dim=da.dims).plot(), duplex_peaks_array())"
   ]
  },
  {
   "cell_type": "markdown",
   "id": "28",
   "metadata": {},
   "source": [
    "### Automatic peak finder workflow"
   ]
  },
  {
   "cell_type": "code",
   "execution_count": null,
   "id": "29",
   "metadata": {},
   "outputs": [],
   "source": [
    "wf = BeerModMcStasWorkflow()\n",
    "wf[Filename[SampleRun]] = mcstas_duplex(9)\n",
    "da = wf.compute(DetectorTofData[SampleRun])\n",
    "da = da.transform_coords(('dspacing',), graph=scn.conversion.graph.tof.elastic('tof'),)\n",
    "ground_truth_peak_positions(da.hist(dspacing=dspacing, dim=da.dims).plot(), duplex_peaks_array())"
   ]
  },
  {
   "cell_type": "markdown",
   "id": "30",
   "metadata": {},
   "source": [
    "#### Data that was excluded because tof could not be computed\n",
    "\n",
    "The most common reason this happens is overlap between nearby peaks."
   ]
  },
  {
   "cell_type": "code",
   "execution_count": null,
   "id": "31",
   "metadata": {},
   "outputs": [],
   "source": [
    "da = da['bank2'].copy()\n",
    "da.masks.clear()\n",
    "da.bins.masks['too_far_from_center'] = ~da.bins.masks.pop('too_far_from_center')\n",
    "\n",
    "da.bins.concat().hist(two_theta=1000, event_time_offset=1000).plot(norm='log')"
   ]
  },
  {
   "cell_type": "markdown",
   "id": "32",
   "metadata": {},
   "source": [
    "## Duplex sample (M3)"
   ]
  },
  {
   "cell_type": "markdown",
   "id": "33",
   "metadata": {},
   "source": [
    "### Intensity distribution in detector"
   ]
  },
  {
   "cell_type": "code",
   "execution_count": null,
   "id": "34",
   "metadata": {},
   "outputs": [],
   "source": [
    "wf = BeerModMcStasWorkflowKnownPeaks()\n",
    "wf[Filename[SampleRun]] = mcstas_duplex(10)\n",
    "wf.compute(DetectorData[SampleRun])['bank1'].hist(two_theta=1000, event_time_offset=1000).plot(norm='log')"
   ]
  },
  {
   "cell_type": "markdown",
   "id": "35",
   "metadata": {},
   "source": [
    "### Known peaks workflow"
   ]
  },
  {
   "cell_type": "code",
   "execution_count": null,
   "id": "36",
   "metadata": {},
   "outputs": [],
   "source": [
    "wf[DHKLList] = duplex_peaks_array()\n",
    "da = wf.compute(DetectorTofData[SampleRun])\n",
    "da = da.transform_coords(('dspacing',), graph=scn.conversion.graph.tof.elastic('tof'),)\n",
    "ground_truth_peak_positions(da.hist(dspacing=dspacing, dim=da.dims).plot(), duplex_peaks_array())"
   ]
  },
  {
   "cell_type": "markdown",
   "id": "37",
   "metadata": {},
   "source": [
    "### Automatic peak finder workflow"
   ]
  },
  {
   "cell_type": "code",
   "execution_count": null,
   "id": "38",
   "metadata": {},
   "outputs": [],
   "source": [
    "wf = BeerModMcStasWorkflow()\n",
    "wf[Filename[SampleRun]] = mcstas_duplex(10)\n",
    "da = wf.compute(DetectorTofData[SampleRun])\n",
    "da = da.transform_coords(('dspacing',), graph=scn.conversion.graph.tof.elastic('tof'),)\n",
    "ground_truth_peak_positions(da.hist(dspacing=dspacing, dim=da.dims).plot(), duplex_peaks_array())"
   ]
  },
  {
   "cell_type": "markdown",
   "id": "39",
   "metadata": {},
   "source": [
    "#### Data that was excluded because tof could not be computed\n",
    "\n",
    "The most common reason this happens is overlap between nearby peaks."
   ]
  },
  {
   "cell_type": "code",
   "execution_count": null,
   "id": "40",
   "metadata": {},
   "outputs": [],
   "source": [
    "da = da['bank2'].copy()\n",
    "da.masks.clear()\n",
    "da.bins.masks['too_far_from_center'] = ~da.bins.masks.pop('too_far_from_center')\n",
    "\n",
    "da.bins.concat().hist(two_theta=1000, event_time_offset=1000).plot(norm='log')"
   ]
  },
  {
   "cell_type": "markdown",
   "id": "41",
   "metadata": {},
   "source": [
    "## Duplex sample (M4)"
   ]
  },
  {
   "cell_type": "markdown",
   "id": "42",
   "metadata": {},
   "source": [
    "### Intensity distribution in detector"
   ]
  },
  {
   "cell_type": "code",
   "execution_count": null,
   "id": "43",
   "metadata": {},
   "outputs": [],
   "source": [
    "wf = BeerModMcStasWorkflowKnownPeaks()\n",
    "wf[Filename[SampleRun]] = mcstas_duplex(16)\n",
    "wf.compute(DetectorData[SampleRun])['bank1'].hist(two_theta=1000, event_time_offset=1000).plot(norm='log')"
   ]
  },
  {
   "cell_type": "markdown",
   "id": "44",
   "metadata": {},
   "source": [
    "### Known peaks workflow"
   ]
  },
  {
   "cell_type": "code",
   "execution_count": null,
   "id": "45",
   "metadata": {},
   "outputs": [],
   "source": [
    "wf[DHKLList] = duplex_peaks_array()\n",
    "da = wf.compute(DetectorTofData[SampleRun])\n",
    "da = da.transform_coords(('dspacing',), graph=scn.conversion.graph.tof.elastic('tof'),)\n",
    "ground_truth_peak_positions(da.hist(dspacing=dspacing, dim=da.dims).plot(), duplex_peaks_array())"
   ]
  },
  {
   "cell_type": "markdown",
   "id": "46",
   "metadata": {},
   "source": [
    "### Automatic peak finder workflow"
   ]
  },
  {
   "cell_type": "code",
   "execution_count": null,
   "id": "47",
   "metadata": {},
   "outputs": [],
   "source": [
    "wf = BeerModMcStasWorkflow()\n",
    "wf[Filename[SampleRun]] = mcstas_duplex(16)\n",
    "da = wf.compute(DetectorTofData[SampleRun])\n",
    "da = da.transform_coords(('dspacing',), graph=scn.conversion.graph.tof.elastic('tof'),)\n",
    "ground_truth_peak_positions(da.hist(dspacing=dspacing, dim=da.dims).plot(), duplex_peaks_array())"
   ]
  },
  {
   "cell_type": "markdown",
   "id": "48",
   "metadata": {},
   "source": [
    "#### Data that was excluded because tof could not be computed\n",
    "\n",
    "The most common reason this happens is overlap between nearby peaks."
   ]
  },
  {
   "cell_type": "code",
   "execution_count": null,
   "id": "49",
   "metadata": {},
   "outputs": [],
   "source": [
    "da = da['bank2'].copy()\n",
    "da.masks.clear()\n",
    "da.bins.masks['too_far_from_center'] = ~da.bins.masks.pop('too_far_from_center')\n",
    "\n",
    "da.bins.concat().hist(two_theta=1000, event_time_offset=1000).plot(norm='log')"
   ]
  }
 ],
 "metadata": {
  "kernelspec": {
   "display_name": "Python 3 (ipykernel)",
   "language": "python",
   "name": "python3"
  },
  "language_info": {
   "codemirror_mode": {
    "name": "ipython",
    "version": 3
   },
   "file_extension": ".py",
   "mimetype": "text/x-python",
   "name": "python",
   "nbconvert_exporter": "python",
   "pygments_lexer": "ipython3",
   "version": "3.10.18"
  }
 },
 "nbformat": 4,
 "nbformat_minor": 5
}
